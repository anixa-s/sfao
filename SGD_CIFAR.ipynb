{
 "cells": [
  {
   "cell_type": "code",
   "execution_count": null,
   "id": "4da4a1f3-4582-45c2-b076-ea3eedec58e2",
   "metadata": {},
   "outputs": [],
   "source": [
    "!pip install matplotlib numpy torchvision tqdm"
   ]
  },
  {
   "cell_type": "code",
   "execution_count": 4,
   "id": "8f046b63-2fb6-45d8-aece-81026daeca42",
   "metadata": {},
   "outputs": [
    {
     "name": "stdout",
     "output_type": "stream",
     "text": [
      "Using device: cuda\n",
      "Files already downloaded and verified\n",
      "Files already downloaded and verified\n",
      "Task 0: classes 0-9, train=5000, test=1000\n",
      "Task 1: classes 10-19, train=5000, test=1000\n",
      "Task 2: classes 20-29, train=5000, test=1000\n",
      "Task 3: classes 30-39, train=5000, test=1000\n",
      "Task 4: classes 40-49, train=5000, test=1000\n",
      "Task 5: classes 50-59, train=5000, test=1000\n",
      "Task 6: classes 60-69, train=5000, test=1000\n",
      "Task 7: classes 70-79, train=5000, test=1000\n",
      "Task 8: classes 80-89, train=5000, test=1000\n",
      "Task 9: classes 90-99, train=5000, test=1000\n",
      "\n",
      "=== Training Task 1 ===\n",
      "Task 0 label range: min=0, max=9 (should be 0-9)\n"
     ]
    },
    {
     "name": "stderr",
     "output_type": "stream",
     "text": [
      "100%|██████████| 156/156 [00:10<00:00, 15.24it/s]\n"
     ]
    },
    {
     "name": "stdout",
     "output_type": "stream",
     "text": [
      "Epoch 1, Loss=2.1795\n"
     ]
    },
    {
     "name": "stderr",
     "output_type": "stream",
     "text": [
      "100%|██████████| 156/156 [00:10<00:00, 15.28it/s]\n"
     ]
    },
    {
     "name": "stdout",
     "output_type": "stream",
     "text": [
      "Epoch 2, Loss=1.9916\n",
      "Accuracy on Task 1: 0.387\n",
      "\n",
      "=== Training Task 2 ===\n",
      "Task 1 label range: min=0, max=9 (should be 0-9)\n"
     ]
    },
    {
     "name": "stderr",
     "output_type": "stream",
     "text": [
      "100%|██████████| 156/156 [00:10<00:00, 15.20it/s]\n"
     ]
    },
    {
     "name": "stdout",
     "output_type": "stream",
     "text": [
      "Epoch 1, Loss=2.2043\n"
     ]
    },
    {
     "name": "stderr",
     "output_type": "stream",
     "text": [
      "100%|██████████| 156/156 [00:10<00:00, 15.35it/s]\n"
     ]
    },
    {
     "name": "stdout",
     "output_type": "stream",
     "text": [
      "Epoch 2, Loss=2.0184\n",
      "Accuracy on Task 1: 0.088\n",
      "Accuracy on Task 2: 0.331\n",
      "\n",
      "=== Training Task 3 ===\n",
      "Task 2 label range: min=0, max=9 (should be 0-9)\n"
     ]
    },
    {
     "name": "stderr",
     "output_type": "stream",
     "text": [
      "100%|██████████| 156/156 [00:10<00:00, 15.22it/s]\n"
     ]
    },
    {
     "name": "stdout",
     "output_type": "stream",
     "text": [
      "Epoch 1, Loss=2.1287\n"
     ]
    },
    {
     "name": "stderr",
     "output_type": "stream",
     "text": [
      "100%|██████████| 156/156 [00:10<00:00, 15.03it/s]\n"
     ]
    },
    {
     "name": "stdout",
     "output_type": "stream",
     "text": [
      "Epoch 2, Loss=1.9253\n",
      "Accuracy on Task 1: 0.159\n",
      "Accuracy on Task 2: 0.108\n",
      "Accuracy on Task 3: 0.369\n",
      "\n",
      "=== Training Task 4 ===\n",
      "Task 3 label range: min=0, max=9 (should be 0-9)\n"
     ]
    },
    {
     "name": "stderr",
     "output_type": "stream",
     "text": [
      "100%|██████████| 156/156 [00:10<00:00, 15.48it/s]\n"
     ]
    },
    {
     "name": "stdout",
     "output_type": "stream",
     "text": [
      "Epoch 1, Loss=2.1531\n"
     ]
    },
    {
     "name": "stderr",
     "output_type": "stream",
     "text": [
      "100%|██████████| 156/156 [00:10<00:00, 15.01it/s]\n"
     ]
    },
    {
     "name": "stdout",
     "output_type": "stream",
     "text": [
      "Epoch 2, Loss=1.8887\n",
      "Accuracy on Task 1: 0.107\n",
      "Accuracy on Task 2: 0.162\n",
      "Accuracy on Task 3: 0.101\n",
      "Accuracy on Task 4: 0.381\n",
      "\n",
      "=== Training Task 5 ===\n",
      "Task 4 label range: min=0, max=9 (should be 0-9)\n"
     ]
    },
    {
     "name": "stderr",
     "output_type": "stream",
     "text": [
      "100%|██████████| 156/156 [00:10<00:00, 15.00it/s]\n"
     ]
    },
    {
     "name": "stdout",
     "output_type": "stream",
     "text": [
      "Epoch 1, Loss=2.1459\n"
     ]
    },
    {
     "name": "stderr",
     "output_type": "stream",
     "text": [
      "100%|██████████| 156/156 [00:09<00:00, 15.72it/s]\n"
     ]
    },
    {
     "name": "stdout",
     "output_type": "stream",
     "text": [
      "Epoch 2, Loss=1.9138\n",
      "Accuracy on Task 1: 0.075\n",
      "Accuracy on Task 2: 0.062\n",
      "Accuracy on Task 3: 0.066\n",
      "Accuracy on Task 4: 0.096\n",
      "Accuracy on Task 5: 0.428\n",
      "\n",
      "=== Training Task 6 ===\n",
      "Task 5 label range: min=0, max=9 (should be 0-9)\n"
     ]
    },
    {
     "name": "stderr",
     "output_type": "stream",
     "text": [
      "100%|██████████| 156/156 [00:10<00:00, 15.45it/s]\n"
     ]
    },
    {
     "name": "stdout",
     "output_type": "stream",
     "text": [
      "Epoch 1, Loss=2.0146\n"
     ]
    },
    {
     "name": "stderr",
     "output_type": "stream",
     "text": [
      "100%|██████████| 156/156 [00:10<00:00, 14.91it/s]\n"
     ]
    },
    {
     "name": "stdout",
     "output_type": "stream",
     "text": [
      "Epoch 2, Loss=1.7842\n",
      "Accuracy on Task 1: 0.068\n",
      "Accuracy on Task 2: 0.097\n",
      "Accuracy on Task 3: 0.064\n",
      "Accuracy on Task 4: 0.037\n",
      "Accuracy on Task 5: 0.154\n",
      "Accuracy on Task 6: 0.459\n",
      "\n",
      "=== Training Task 7 ===\n",
      "Task 6 label range: min=0, max=9 (should be 0-9)\n"
     ]
    },
    {
     "name": "stderr",
     "output_type": "stream",
     "text": [
      "100%|██████████| 156/156 [00:10<00:00, 14.80it/s]\n"
     ]
    },
    {
     "name": "stdout",
     "output_type": "stream",
     "text": [
      "Epoch 1, Loss=2.0171\n"
     ]
    },
    {
     "name": "stderr",
     "output_type": "stream",
     "text": [
      "100%|██████████| 156/156 [00:10<00:00, 14.99it/s]\n"
     ]
    },
    {
     "name": "stdout",
     "output_type": "stream",
     "text": [
      "Epoch 2, Loss=1.7207\n",
      "Accuracy on Task 1: 0.109\n",
      "Accuracy on Task 2: 0.060\n",
      "Accuracy on Task 3: 0.053\n",
      "Accuracy on Task 4: 0.100\n",
      "Accuracy on Task 5: 0.155\n",
      "Accuracy on Task 6: 0.072\n",
      "Accuracy on Task 7: 0.458\n",
      "\n",
      "=== Training Task 8 ===\n",
      "Task 7 label range: min=0, max=9 (should be 0-9)\n"
     ]
    },
    {
     "name": "stderr",
     "output_type": "stream",
     "text": [
      "100%|██████████| 156/156 [00:10<00:00, 15.32it/s]\n"
     ]
    },
    {
     "name": "stdout",
     "output_type": "stream",
     "text": [
      "Epoch 1, Loss=2.0460\n"
     ]
    },
    {
     "name": "stderr",
     "output_type": "stream",
     "text": [
      "100%|██████████| 156/156 [00:10<00:00, 15.08it/s]\n"
     ]
    },
    {
     "name": "stdout",
     "output_type": "stream",
     "text": [
      "Epoch 2, Loss=1.7923\n",
      "Accuracy on Task 1: 0.187\n",
      "Accuracy on Task 2: 0.091\n",
      "Accuracy on Task 3: 0.074\n",
      "Accuracy on Task 4: 0.101\n",
      "Accuracy on Task 5: 0.073\n",
      "Accuracy on Task 6: 0.067\n",
      "Accuracy on Task 7: 0.090\n",
      "Accuracy on Task 8: 0.449\n",
      "\n",
      "=== Training Task 9 ===\n",
      "Task 8 label range: min=0, max=9 (should be 0-9)\n"
     ]
    },
    {
     "name": "stderr",
     "output_type": "stream",
     "text": [
      "100%|██████████| 156/156 [00:10<00:00, 15.32it/s]\n"
     ]
    },
    {
     "name": "stdout",
     "output_type": "stream",
     "text": [
      "Epoch 1, Loss=2.0458\n"
     ]
    },
    {
     "name": "stderr",
     "output_type": "stream",
     "text": [
      "100%|██████████| 156/156 [00:10<00:00, 15.29it/s]\n"
     ]
    },
    {
     "name": "stdout",
     "output_type": "stream",
     "text": [
      "Epoch 2, Loss=1.8162\n",
      "Accuracy on Task 1: 0.030\n",
      "Accuracy on Task 2: 0.120\n",
      "Accuracy on Task 3: 0.062\n",
      "Accuracy on Task 4: 0.079\n",
      "Accuracy on Task 5: 0.073\n",
      "Accuracy on Task 6: 0.153\n",
      "Accuracy on Task 7: 0.084\n",
      "Accuracy on Task 8: 0.072\n",
      "Accuracy on Task 9: 0.408\n",
      "\n",
      "=== Training Task 10 ===\n",
      "Task 9 label range: min=0, max=9 (should be 0-9)\n"
     ]
    },
    {
     "name": "stderr",
     "output_type": "stream",
     "text": [
      "100%|██████████| 156/156 [00:09<00:00, 15.77it/s]\n"
     ]
    },
    {
     "name": "stdout",
     "output_type": "stream",
     "text": [
      "Epoch 1, Loss=2.1205\n"
     ]
    },
    {
     "name": "stderr",
     "output_type": "stream",
     "text": [
      "100%|██████████| 156/156 [00:10<00:00, 15.17it/s]\n"
     ]
    },
    {
     "name": "stdout",
     "output_type": "stream",
     "text": [
      "Epoch 2, Loss=1.8380\n",
      "Accuracy on Task 1: 0.086\n",
      "Accuracy on Task 2: 0.039\n",
      "Accuracy on Task 3: 0.090\n",
      "Accuracy on Task 4: 0.070\n",
      "Accuracy on Task 5: 0.102\n",
      "Accuracy on Task 6: 0.072\n",
      "Accuracy on Task 7: 0.183\n",
      "Accuracy on Task 8: 0.087\n",
      "Accuracy on Task 9: 0.152\n",
      "Accuracy on Task 10: 0.468\n",
      "\n",
      "=== Final Evaluation Metrics ===\n",
      "ACC  : 0.1349\n",
      "F    : 0.3099\n",
      "BWT  : -0.3099\n",
      "FWT  : 0.0000\n",
      "PSM  : 0.3451\n"
     ]
    },
    {
     "data": {
      "image/png": "[encoded data removed]",
      "text/plain": [
       "<Figure size 600x500 with 2 Axes>"
      ]
     },
     "metadata": {},
     "output_type": "display_data"
    }
   ],
   "source": [
    "# Naive SGD on Split CIFAR-100\n",
    "import os\n",
    "os.environ['CUDA_LAUNCH_BLOCKING'] = \"1\"  # Better CUDA error tracebacks\n",
    "\n",
    "import torch\n",
    "import torch.nn as nn\n",
    "import torch.optim as optim\n",
    "from torch.utils.data import DataLoader, TensorDataset\n",
    "from torchvision import datasets, transforms\n",
    "import torch.nn.functional as F\n",
    "import numpy as np\n",
    "from tqdm import tqdm\n",
    "import matplotlib.pyplot as plt\n",
    "\n",
    "# ===== Device =====\n",
    "device = torch.device(\"cuda\" if torch.cuda.is_available() else \"cpu\")\n",
    "print(\"Using device:\", device)\n",
    "\n",
    "# ===== Hyperparameters =====\n",
    "root = './data'\n",
    "num_tasks = 10\n",
    "num_classes = 100\n",
    "classes_per_task = num_classes // num_tasks\n",
    "batch_size = 32\n",
    "num_epochs = 2\n",
    "learning_rate = 0.001\n",
    "\n",
    "# ===== Transforms =====\n",
    "train_transform = transforms.ToTensor()\n",
    "test_transform = transforms.ToTensor()\n",
    "\n",
    "# ===== Load CIFAR-100 =====\n",
    "train_ds = datasets.CIFAR100(root=root, train=True, download=True, transform=train_transform)\n",
    "test_ds = datasets.CIFAR100(root=root, train=False, download=True, transform=test_transform)\n",
    "\n",
    "# ===== Helper: extract subset =====\n",
    "def extract_subset_tensors(dataset, class_list):\n",
    "    targets = np.array(dataset.targets)\n",
    "    mask = np.isin(targets, class_list)\n",
    "    indices = np.nonzero(mask)[0].tolist()\n",
    "    imgs, labs = [], []\n",
    "    for i in indices:\n",
    "        img, lbl = dataset[i]\n",
    "        imgs.append(img)\n",
    "        labs.append(lbl)\n",
    "    return torch.stack(imgs), torch.tensor(labs, dtype=torch.long)\n",
    "\n",
    "# ===== Prepare tasks =====\n",
    "train_tasks, test_tasks = [], []\n",
    "for t in range(num_tasks):\n",
    "    cls_start = t * classes_per_task\n",
    "    cls_end = cls_start + classes_per_task\n",
    "    task_classes = list(range(cls_start, cls_end))\n",
    "\n",
    "    x_train, y_train = extract_subset_tensors(train_ds, task_classes)\n",
    "    x_test, y_test = extract_subset_tensors(test_ds, task_classes)\n",
    "\n",
    "    # Map labels to 0..classes_per_task-1\n",
    "    class_map = {orig: i for i, orig in enumerate(task_classes)}\n",
    "    y_train_mapped = torch.tensor([class_map[int(v)] for v in y_train], dtype=torch.long)\n",
    "    y_test_mapped = torch.tensor([class_map[int(v)] for v in y_test], dtype=torch.long)\n",
    "\n",
    "    train_tasks.append(TensorDataset(x_train, y_train_mapped))\n",
    "    test_tasks.append(TensorDataset(x_test, y_test_mapped))\n",
    "\n",
    "    print(f\"Task {t}: classes {task_classes[0]}-{task_classes[-1]}, train={len(x_train)}, test={len(x_test)}\")\n",
    "\n",
    "\n",
    "# -----------------\n",
    "# WideResNet (WRN-28-10)\n",
    "# -----------------\n",
    "class BasicBlock(nn.Module):\n",
    "    def __init__(self, in_planes, out_planes, stride):\n",
    "        super().__init__()\n",
    "        self.bn1 = nn.BatchNorm2d(in_planes)\n",
    "        self.relu1 = nn.ReLU(inplace=True)\n",
    "        self.conv1 = nn.Conv2d(in_planes, out_planes, 3, stride, 1, bias=False)\n",
    "        self.bn2 = nn.BatchNorm2d(out_planes)\n",
    "        self.relu2 = nn.ReLU(inplace=True)\n",
    "        self.conv2 = nn.Conv2d(out_planes, out_planes, 3, 1, 1, bias=False)\n",
    "        self.equalInOut = (in_planes == out_planes)\n",
    "        self.convShortcut = None if self.equalInOut else nn.Conv2d(\n",
    "            in_planes, out_planes, 1, stride, 0, bias=False\n",
    "        )\n",
    "\n",
    "    def forward(self, x):\n",
    "        out = self.relu1(self.bn1(x))\n",
    "        shortcut = x if self.equalInOut else self.convShortcut(x)\n",
    "        out = self.conv1(out)\n",
    "        out = self.relu2(self.bn2(out))\n",
    "        out = self.conv2(out)\n",
    "        return out + shortcut\n",
    "\n",
    "class NetworkBlock(nn.Module):\n",
    "    def __init__(self, n, in_planes, out_planes, block, stride):\n",
    "        super().__init__()\n",
    "        layers = []\n",
    "        for i in range(n):\n",
    "            layers.append(\n",
    "                block(in_planes if i == 0 else out_planes,\n",
    "                      out_planes,\n",
    "                      stride if i == 0 else 1)\n",
    "            )\n",
    "        self.layer = nn.Sequential(*layers)\n",
    "\n",
    "    def forward(self, x):\n",
    "        return self.layer(x)\n",
    "\n",
    "class WideResNet(nn.Module):\n",
    "    def __init__(self, depth=28, widen_factor=10, num_classes=10):\n",
    "        super().__init__()\n",
    "        assert (depth - 4) % 6 == 0\n",
    "        n = (depth - 4) // 6\n",
    "        k = widen_factor\n",
    "        nChannels = [16, 16*k, 32*k, 64*k]\n",
    "\n",
    "        self.conv1 = nn.Conv2d(3, nChannels[0], 3, 1, 1, bias=False)\n",
    "        self.block1 = NetworkBlock(n, nChannels[0], nChannels[1], BasicBlock, 1)\n",
    "        self.block2 = NetworkBlock(n, nChannels[1], nChannels[2], BasicBlock, 2)\n",
    "        self.block3 = NetworkBlock(n, nChannels[2], nChannels[3], BasicBlock, 2)\n",
    "        self.bn = nn.BatchNorm2d(nChannels[3])\n",
    "        self.relu = nn.ReLU(inplace=True)\n",
    "        self.fc = nn.Linear(nChannels[3], num_classes)\n",
    "        self.nChannels = nChannels[3]\n",
    "\n",
    "    def forward(self, x):\n",
    "        x = self.conv1(x)\n",
    "        x = self.block1(x)\n",
    "        x = self.block2(x)\n",
    "        x = self.block3(x)\n",
    "        x = self.relu(self.bn(x))\n",
    "        x = F.adaptive_avg_pool2d(x, 1).view(-1, self.nChannels)\n",
    "        return self.fc(x)\n",
    "\n",
    "\"\"\"\n",
    "# ===== Simple CNN =====\n",
    "class SimpleCNN(nn.Module):\n",
    "    def __init__(self, num_classes=10):\n",
    "        super().__init__()\n",
    "        self.conv1 = nn.Conv2d(3, 32, kernel_size=3, padding=1)\n",
    "        self.conv2 = nn.Conv2d(32, 64, kernel_size=3, padding=1)\n",
    "        self.pool = nn.MaxPool2d(2,2)\n",
    "        self.fc1 = nn.Linear(64*8*8, 256)\n",
    "        self.fc2 = nn.Linear(256, num_classes)\n",
    "\n",
    "    def forward(self, x):\n",
    "        x = self.pool(F.relu(self.conv1(x)))\n",
    "        x = self.pool(F.relu(self.conv2(x)))\n",
    "        x = x.view(x.size(0), -1)\n",
    "        x = F.relu(self.fc1(x))\n",
    "        return self.fc2(x)\n",
    "\"\"\"\n",
    "\n",
    "# ===== Evaluation function =====\n",
    "def evaluate(model, dataloader):\n",
    "    model.eval()\n",
    "    correct, total = 0, 0\n",
    "    with torch.no_grad():\n",
    "        for x, y in dataloader:\n",
    "            x, y = x.to(device), y.to(device)\n",
    "            y = y.long()\n",
    "            output = model(x)\n",
    "            preds = output.argmax(dim=1)\n",
    "            correct += (preds == y).sum().item()\n",
    "            total += y.size(0)\n",
    "    return correct / total\n",
    "\n",
    "# ===== Training loop =====\n",
    "accuracy_matrix = np.zeros((num_tasks, num_tasks))\n",
    "\n",
    "for task_id, train_dataset in enumerate(train_tasks):\n",
    "    print(f\"\\n=== Training Task {task_id+1} ===\")\n",
    "    \"\"\"\n",
    "    # Create a fresh model per task\n",
    "    model = SimpleCNN(num_classes=classes_per_task).to(device)\n",
    "    optimizer = optim.SGD(model.parameters(), lr=learning_rate)\n",
    "    criterion = nn.CrossEntropyLoss()\n",
    "    \"\"\"\n",
    "    model = WideResNet(depth=28, widen_factor=10, num_classes=classes_per_task).to(device)\n",
    "    optimizer = torch.optim.SGD(model.parameters(), lr=learning_rate)\n",
    "    criterion = nn.CrossEntropyLoss()\n",
    "    train_loader = DataLoader(\n",
    "        train_dataset, batch_size=batch_size, shuffle=True, drop_last=True, num_workers=0\n",
    "    )\n",
    "\n",
    "    # Check label ranges\n",
    "    y_all = torch.cat([y for _, y in train_loader])\n",
    "    print(f\"Task {task_id} label range: min={y_all.min().item()}, max={y_all.max().item()} (should be 0-{classes_per_task-1})\")\n",
    "\n",
    "    for epoch in range(num_epochs):\n",
    "        epoch_loss = 0.0\n",
    "        for x, y in tqdm(train_loader):\n",
    "            x, y = x.to(device), y.to(device)\n",
    "            y = y.long()\n",
    "            optimizer.zero_grad()\n",
    "            output = model(x)\n",
    "\n",
    "            # Safeguard: assert labels are within range\n",
    "            assert y.max().item() < output.size(1), f\"Label {y.max().item()} out of range for {output.size(1)} classes\"\n",
    "\n",
    "            loss = criterion(output, y)\n",
    "            loss.backward()\n",
    "            optimizer.step()\n",
    "            epoch_loss += loss.item()\n",
    "        print(f\"Epoch {epoch+1}, Loss={epoch_loss/len(train_loader):.4f}\")\n",
    "\n",
    "    # Evaluate on all seen tasks\n",
    "    for eval_id in range(task_id+1):\n",
    "        test_loader = DataLoader(\n",
    "            test_tasks[eval_id], batch_size=batch_size, shuffle=False, num_workers=0\n",
    "        )\n",
    "        acc = evaluate(model, test_loader)\n",
    "        accuracy_matrix[task_id, eval_id] = acc\n",
    "        print(f\"Accuracy on Task {eval_id+1}: {acc:.3f}\")\n",
    "\n",
    "# ===== Metrics =====\n",
    "num_seen_tasks = accuracy_matrix.shape[0]\n",
    "\n",
    "# ACC: average accuracy over all tasks after training last task\n",
    "ACC = accuracy_matrix[-1].mean()\n",
    "\n",
    "# Forgetting F: average of max previous accuracy - final accuracy for each task\n",
    "if num_seen_tasks > 1:\n",
    "    F = np.mean([np.max(accuracy_matrix[:num_seen_tasks-1, j]) - accuracy_matrix[-1, j] \n",
    "                 for j in range(num_seen_tasks-1)])\n",
    "    BWT = np.mean([accuracy_matrix[-1, j] - accuracy_matrix[j, j] for j in range(num_seen_tasks-1)])\n",
    "    FWT = np.mean([accuracy_matrix[i, i+1] for i in range(num_seen_tasks-1)])\n",
    "else:\n",
    "    F, BWT, FWT = 0.0, 0.0, 0.0\n",
    "\n",
    "# Performance Stability Metric (PSM)\n",
    "PSM = 0.5*(1-F) + 0.5*max(FWT,0)\n",
    "\n",
    "print(\"\\n=== Final Evaluation Metrics ===\")\n",
    "print(f\"ACC  : {ACC:.4f}\")\n",
    "print(f\"F    : {F:.4f}\")\n",
    "print(f\"BWT  : {BWT:.4f}\")\n",
    "print(f\"FWT  : {FWT:.4f}\")\n",
    "print(f\"PSM  : {PSM:.4f}\")\n",
    "\n",
    "# ===== Plot accuracy matrix =====\n",
    "plt.figure(figsize=(6,5))\n",
    "plt.imshow(accuracy_matrix, cmap='viridis', interpolation='nearest')\n",
    "plt.colorbar(label='Accuracy')\n",
    "plt.xlabel('Evaluation Task')\n",
    "plt.ylabel('Training Task')\n",
    "plt.title('Naive SGD Accuracy Matrix (Split CIFAR-100)')\n",
    "plt.show()"
   ]
  },
  {
   "cell_type": "code",
   "execution_count": 2,
   "id": "8013ea55-afab-4744-b6f4-19f70b825b9f",
   "metadata": {},
   "outputs": [
    {
     "name": "stdout",
     "output_type": "stream",
     "text": [
      "Using device: cuda\n",
      "Files already downloaded and verified\n",
      "Files already downloaded and verified\n",
      "Task 0: classes 0-1, train=1000, test=200\n",
      "Task 1: classes 2-3, train=1000, test=200\n",
      "Task 2: classes 4-5, train=1000, test=200\n",
      "Task 3: classes 6-7, train=1000, test=200\n",
      "Task 4: classes 8-9, train=1000, test=200\n",
      "\n",
      "=== Training Task 1 ===\n",
      "Task 0 label range: min=0, max=1 (should be 0-1)\n"
     ]
    },
    {
     "name": "stderr",
     "output_type": "stream",
     "text": [
      "100%|██████████| 31/31 [00:02<00:00, 13.42it/s]\n"
     ]
    },
    {
     "name": "stdout",
     "output_type": "stream",
     "text": [
      "Epoch 1, Loss=0.6152\n"
     ]
    },
    {
     "name": "stderr",
     "output_type": "stream",
     "text": [
      "100%|██████████| 31/31 [00:02<00:00, 15.27it/s]\n"
     ]
    },
    {
     "name": "stdout",
     "output_type": "stream",
     "text": [
      "Epoch 2, Loss=0.4854\n",
      "Accuracy on Task 1: 0.865\n",
      "\n",
      "=== Training Task 2 ===\n",
      "Task 1 label range: min=0, max=1 (should be 0-1)\n"
     ]
    },
    {
     "name": "stderr",
     "output_type": "stream",
     "text": [
      "100%|██████████| 31/31 [00:01<00:00, 15.68it/s]\n"
     ]
    },
    {
     "name": "stdout",
     "output_type": "stream",
     "text": [
      "Epoch 1, Loss=0.6725\n"
     ]
    },
    {
     "name": "stderr",
     "output_type": "stream",
     "text": [
      "100%|██████████| 31/31 [00:02<00:00, 15.40it/s]\n"
     ]
    },
    {
     "name": "stdout",
     "output_type": "stream",
     "text": [
      "Epoch 2, Loss=0.6038\n",
      "Accuracy on Task 1: 0.705\n",
      "Accuracy on Task 2: 0.785\n",
      "\n",
      "=== Training Task 3 ===\n",
      "Task 2 label range: min=0, max=1 (should be 0-1)\n"
     ]
    },
    {
     "name": "stderr",
     "output_type": "stream",
     "text": [
      "100%|██████████| 31/31 [00:02<00:00, 15.35it/s]\n"
     ]
    },
    {
     "name": "stdout",
     "output_type": "stream",
     "text": [
      "Epoch 1, Loss=0.6611\n"
     ]
    },
    {
     "name": "stderr",
     "output_type": "stream",
     "text": [
      "100%|██████████| 31/31 [00:01<00:00, 15.66it/s]\n"
     ]
    },
    {
     "name": "stdout",
     "output_type": "stream",
     "text": [
      "Epoch 2, Loss=0.6011\n",
      "Accuracy on Task 1: 0.320\n",
      "Accuracy on Task 2: 0.365\n",
      "Accuracy on Task 3: 0.730\n",
      "\n",
      "=== Training Task 4 ===\n",
      "Task 3 label range: min=0, max=1 (should be 0-1)\n"
     ]
    },
    {
     "name": "stderr",
     "output_type": "stream",
     "text": [
      "100%|██████████| 31/31 [00:01<00:00, 15.66it/s]\n"
     ]
    },
    {
     "name": "stdout",
     "output_type": "stream",
     "text": [
      "Epoch 1, Loss=0.6672\n"
     ]
    },
    {
     "name": "stderr",
     "output_type": "stream",
     "text": [
      "100%|██████████| 31/31 [00:01<00:00, 15.55it/s]\n"
     ]
    },
    {
     "name": "stdout",
     "output_type": "stream",
     "text": [
      "Epoch 2, Loss=0.6294\n",
      "Accuracy on Task 1: 0.545\n",
      "Accuracy on Task 2: 0.625\n",
      "Accuracy on Task 3: 0.485\n",
      "Accuracy on Task 4: 0.630\n",
      "\n",
      "=== Training Task 5 ===\n",
      "Task 4 label range: min=0, max=1 (should be 0-1)\n"
     ]
    },
    {
     "name": "stderr",
     "output_type": "stream",
     "text": [
      "100%|██████████| 31/31 [00:01<00:00, 15.58it/s]\n"
     ]
    },
    {
     "name": "stdout",
     "output_type": "stream",
     "text": [
      "Epoch 1, Loss=0.6409\n"
     ]
    },
    {
     "name": "stderr",
     "output_type": "stream",
     "text": [
      "100%|██████████| 31/31 [00:02<00:00, 15.13it/s]\n"
     ]
    },
    {
     "name": "stdout",
     "output_type": "stream",
     "text": [
      "Epoch 2, Loss=0.5964\n",
      "Accuracy on Task 1: 0.395\n",
      "Accuracy on Task 2: 0.415\n",
      "Accuracy on Task 3: 0.590\n",
      "Accuracy on Task 4: 0.435\n",
      "Accuracy on Task 5: 0.720\n",
      "\n",
      "=== Final Evaluation Metrics ===\n",
      "ACC  : 0.5110\n",
      "F    : 0.2938\n",
      "BWT  : -0.2938\n",
      "FWT  : 0.0000\n",
      "PSM  : 0.3531\n"
     ]
    },
    {
     "data": {
      "image/png": "[encoded data removed]",
      "text/plain": [
       "<Figure size 600x500 with 2 Axes>"
      ]
     },
     "metadata": {},
     "output_type": "display_data"
    }
   ],
   "source": [
    "# Naive SGD on Split CIFAR-100\n",
    "import os\n",
    "os.environ['CUDA_LAUNCH_BLOCKING'] = \"1\"  # Better CUDA error tracebacks\n",
    "\n",
    "import torch\n",
    "import torch.nn as nn\n",
    "import torch.optim as optim\n",
    "from torch.utils.data import DataLoader, TensorDataset\n",
    "from torchvision import datasets, transforms\n",
    "import torch.nn.functional as F\n",
    "import numpy as np\n",
    "from tqdm import tqdm\n",
    "import matplotlib.pyplot as plt\n",
    "\n",
    "# ===== Device =====\n",
    "device = torch.device(\"cuda\" if torch.cuda.is_available() else \"cpu\")\n",
    "print(\"Using device:\", device)\n",
    "\n",
    "# ===== Hyperparameters =====\n",
    "root = './data'\n",
    "num_tasks = 5\n",
    "num_classes = 10\n",
    "classes_per_task = num_classes // num_tasks\n",
    "batch_size = 32\n",
    "num_epochs = 2\n",
    "learning_rate = 0.001\n",
    "\n",
    "# ===== Transforms =====\n",
    "train_transform = transforms.ToTensor()\n",
    "test_transform = transforms.ToTensor()\n",
    "\n",
    "# ===== Load CIFAR-10 =====\n",
    "train_ds = datasets.CIFAR100(root=root, train=True, download=True, transform=train_transform)\n",
    "test_ds = datasets.CIFAR100(root=root, train=False, download=True, transform=test_transform)\n",
    "\n",
    "# ===== Helper: extract subset =====\n",
    "def extract_subset_tensors(dataset, class_list):\n",
    "    targets = np.array(dataset.targets)\n",
    "    mask = np.isin(targets, class_list)\n",
    "    indices = np.nonzero(mask)[0].tolist()\n",
    "    imgs, labs = [], []\n",
    "    for i in indices:\n",
    "        img, lbl = dataset[i]\n",
    "        imgs.append(img)\n",
    "        labs.append(lbl)\n",
    "    return torch.stack(imgs), torch.tensor(labs, dtype=torch.long)\n",
    "\n",
    "# ===== Prepare tasks =====\n",
    "train_tasks, test_tasks = [], []\n",
    "for t in range(num_tasks):\n",
    "    cls_start = t * classes_per_task\n",
    "    cls_end = cls_start + classes_per_task\n",
    "    task_classes = list(range(cls_start, cls_end))\n",
    "\n",
    "    x_train, y_train = extract_subset_tensors(train_ds, task_classes)\n",
    "    x_test, y_test = extract_subset_tensors(test_ds, task_classes)\n",
    "\n",
    "    # Map labels to 0..classes_per_task-1\n",
    "    class_map = {orig: i for i, orig in enumerate(task_classes)}\n",
    "    y_train_mapped = torch.tensor([class_map[int(v)] for v in y_train], dtype=torch.long)\n",
    "    y_test_mapped = torch.tensor([class_map[int(v)] for v in y_test], dtype=torch.long)\n",
    "\n",
    "    train_tasks.append(TensorDataset(x_train, y_train_mapped))\n",
    "    test_tasks.append(TensorDataset(x_test, y_test_mapped))\n",
    "\n",
    "    print(f\"Task {t}: classes {task_classes[0]}-{task_classes[-1]}, train={len(x_train)}, test={len(x_test)}\")\n",
    "\n",
    "\n",
    "# -----------------\n",
    "# WideResNet (WRN-28-10)\n",
    "# -----------------\n",
    "class BasicBlock(nn.Module):\n",
    "    def __init__(self, in_planes, out_planes, stride):\n",
    "        super().__init__()\n",
    "        self.bn1 = nn.BatchNorm2d(in_planes)\n",
    "        self.relu1 = nn.ReLU(inplace=True)\n",
    "        self.conv1 = nn.Conv2d(in_planes, out_planes, 3, stride, 1, bias=False)\n",
    "        self.bn2 = nn.BatchNorm2d(out_planes)\n",
    "        self.relu2 = nn.ReLU(inplace=True)\n",
    "        self.conv2 = nn.Conv2d(out_planes, out_planes, 3, 1, 1, bias=False)\n",
    "        self.equalInOut = (in_planes == out_planes)\n",
    "        self.convShortcut = None if self.equalInOut else nn.Conv2d(\n",
    "            in_planes, out_planes, 1, stride, 0, bias=False\n",
    "        )\n",
    "\n",
    "    def forward(self, x):\n",
    "        out = self.relu1(self.bn1(x))\n",
    "        shortcut = x if self.equalInOut else self.convShortcut(x)\n",
    "        out = self.conv1(out)\n",
    "        out = self.relu2(self.bn2(out))\n",
    "        out = self.conv2(out)\n",
    "        return out + shortcut\n",
    "\n",
    "class NetworkBlock(nn.Module):\n",
    "    def __init__(self, n, in_planes, out_planes, block, stride):\n",
    "        super().__init__()\n",
    "        layers = []\n",
    "        for i in range(n):\n",
    "            layers.append(\n",
    "                block(in_planes if i == 0 else out_planes,\n",
    "                      out_planes,\n",
    "                      stride if i == 0 else 1)\n",
    "            )\n",
    "        self.layer = nn.Sequential(*layers)\n",
    "\n",
    "    def forward(self, x):\n",
    "        return self.layer(x)\n",
    "\n",
    "class WideResNet(nn.Module):\n",
    "    def __init__(self, depth=28, widen_factor=10, num_classes=10):\n",
    "        super().__init__()\n",
    "        assert (depth - 4) % 6 == 0\n",
    "        n = (depth - 4) // 6\n",
    "        k = widen_factor\n",
    "        nChannels = [16, 16*k, 32*k, 64*k]\n",
    "\n",
    "        self.conv1 = nn.Conv2d(3, nChannels[0], 3, 1, 1, bias=False)\n",
    "        self.block1 = NetworkBlock(n, nChannels[0], nChannels[1], BasicBlock, 1)\n",
    "        self.block2 = NetworkBlock(n, nChannels[1], nChannels[2], BasicBlock, 2)\n",
    "        self.block3 = NetworkBlock(n, nChannels[2], nChannels[3], BasicBlock, 2)\n",
    "        self.bn = nn.BatchNorm2d(nChannels[3])\n",
    "        self.relu = nn.ReLU(inplace=True)\n",
    "        self.fc = nn.Linear(nChannels[3], num_classes)\n",
    "        self.nChannels = nChannels[3]\n",
    "\n",
    "    def forward(self, x):\n",
    "        x = self.conv1(x)\n",
    "        x = self.block1(x)\n",
    "        x = self.block2(x)\n",
    "        x = self.block3(x)\n",
    "        x = self.relu(self.bn(x))\n",
    "        x = F.adaptive_avg_pool2d(x, 1).view(-1, self.nChannels)\n",
    "        return self.fc(x)\n",
    "\n",
    "\"\"\"\n",
    "# ===== Simple CNN =====\n",
    "class SimpleCNN(nn.Module):\n",
    "    def __init__(self, num_classes=10):\n",
    "        super().__init__()\n",
    "        self.conv1 = nn.Conv2d(3, 32, kernel_size=3, padding=1)\n",
    "        self.conv2 = nn.Conv2d(32, 64, kernel_size=3, padding=1)\n",
    "        self.pool = nn.MaxPool2d(2,2)\n",
    "        self.fc1 = nn.Linear(64*8*8, 256)\n",
    "        self.fc2 = nn.Linear(256, num_classes)\n",
    "\n",
    "    def forward(self, x):\n",
    "        x = self.pool(F.relu(self.conv1(x)))\n",
    "        x = self.pool(F.relu(self.conv2(x)))\n",
    "        x = x.view(x.size(0), -1)\n",
    "        x = F.relu(self.fc1(x))\n",
    "        return self.fc2(x)\n",
    "\"\"\"\n",
    "\n",
    "# ===== Evaluation function =====\n",
    "def evaluate(model, dataloader):\n",
    "    model.eval()\n",
    "    correct, total = 0, 0\n",
    "    with torch.no_grad():\n",
    "        for x, y in dataloader:\n",
    "            x, y = x.to(device), y.to(device)\n",
    "            y = y.long()\n",
    "            output = model(x)\n",
    "            preds = output.argmax(dim=1)\n",
    "            correct += (preds == y).sum().item()\n",
    "            total += y.size(0)\n",
    "    return correct / total\n",
    "\n",
    "# ===== Training loop =====\n",
    "accuracy_matrix = np.zeros((num_tasks, num_tasks))\n",
    "\n",
    "for task_id, train_dataset in enumerate(train_tasks):\n",
    "    print(f\"\\n=== Training Task {task_id+1} ===\")\n",
    "    \"\"\"\n",
    "    # Create a fresh model per task\n",
    "    model = SimpleCNN(num_classes=classes_per_task).to(device)\n",
    "    optimizer = optim.SGD(model.parameters(), lr=learning_rate)\n",
    "    criterion = nn.CrossEntropyLoss()\n",
    "    \"\"\"\n",
    "    model = WideResNet(depth=28, widen_factor=10, num_classes=classes_per_task).to(device)\n",
    "    optimizer = torch.optim.SGD(model.parameters(), lr=learning_rate)\n",
    "    criterion = nn.CrossEntropyLoss()\n",
    "    train_loader = DataLoader(\n",
    "        train_dataset, batch_size=batch_size, shuffle=True, drop_last=True, num_workers=0\n",
    "    )\n",
    "\n",
    "    # Check label ranges\n",
    "    y_all = torch.cat([y for _, y in train_loader])\n",
    "    print(f\"Task {task_id} label range: min={y_all.min().item()}, max={y_all.max().item()} (should be 0-{classes_per_task-1})\")\n",
    "\n",
    "    for epoch in range(num_epochs):\n",
    "        epoch_loss = 0.0\n",
    "        for x, y in tqdm(train_loader):\n",
    "            x, y = x.to(device), y.to(device)\n",
    "            y = y.long()\n",
    "            optimizer.zero_grad()\n",
    "            output = model(x)\n",
    "\n",
    "            # Safeguard: assert labels are within range\n",
    "            assert y.max().item() < output.size(1), f\"Label {y.max().item()} out of range for {output.size(1)} classes\"\n",
    "\n",
    "            loss = criterion(output, y)\n",
    "            loss.backward()\n",
    "            optimizer.step()\n",
    "            epoch_loss += loss.item()\n",
    "        print(f\"Epoch {epoch+1}, Loss={epoch_loss/len(train_loader):.4f}\")\n",
    "\n",
    "    # Evaluate on all seen tasks\n",
    "    for eval_id in range(task_id+1):\n",
    "        test_loader = DataLoader(\n",
    "            test_tasks[eval_id], batch_size=batch_size, shuffle=False, num_workers=0\n",
    "        )\n",
    "        acc = evaluate(model, test_loader)\n",
    "        accuracy_matrix[task_id, eval_id] = acc\n",
    "        print(f\"Accuracy on Task {eval_id+1}: {acc:.3f}\")\n",
    "\n",
    "# ===== Metrics =====\n",
    "num_seen_tasks = accuracy_matrix.shape[0]\n",
    "\n",
    "# ACC: average accuracy over all tasks after training last task\n",
    "ACC = accuracy_matrix[-1].mean()\n",
    "\n",
    "# Forgetting F: average of max previous accuracy - final accuracy for each task\n",
    "if num_seen_tasks > 1:\n",
    "    F = np.mean([np.max(accuracy_matrix[:num_seen_tasks-1, j]) - accuracy_matrix[-1, j] \n",
    "                 for j in range(num_seen_tasks-1)])\n",
    "    BWT = np.mean([accuracy_matrix[-1, j] - accuracy_matrix[j, j] for j in range(num_seen_tasks-1)])\n",
    "    FWT = np.mean([accuracy_matrix[i, i+1] for i in range(num_seen_tasks-1)])\n",
    "else:\n",
    "    F, BWT, FWT = 0.0, 0.0, 0.0\n",
    "\n",
    "# Performance Stability Metric (PSM)\n",
    "PSM = 0.5*(1-F) + 0.5*max(FWT,0)\n",
    "\n",
    "print(\"\\n=== Final Evaluation Metrics ===\")\n",
    "print(f\"ACC  : {ACC:.4f}\")\n",
    "print(f\"F    : {F:.4f}\")\n",
    "print(f\"BWT  : {BWT:.4f}\")\n",
    "print(f\"FWT  : {FWT:.4f}\")\n",
    "print(f\"PSM  : {PSM:.4f}\")\n",
    "\n",
    "# ===== Plot accuracy matrix =====\n",
    "plt.figure(figsize=(6,5))\n",
    "plt.imshow(accuracy_matrix, cmap='viridis', interpolation='nearest')\n",
    "plt.colorbar(label='Accuracy')\n",
    "plt.xlabel('Evaluation Task')\n",
    "plt.ylabel('Training Task')\n",
    "plt.title('Naive SGD Accuracy Matrix (Split CIFAR-10)')\n",
    "plt.show()"
   ]
  }
 ],
 "metadata": {
  "kernelspec": {
   "display_name": "Python 3 (ipykernel)",
   "language": "python",
   "name": "python3"
  },
  "language_info": {
   "codemirror_mode": {
    "name": "ipython",
    "version": 3
   },
   "file_extension": ".py",
   "mimetype": "text/x-python",
   "name": "python",
   "nbconvert_exporter": "python",
   "pygments_lexer": "ipython3",
   "version": "3.10.12"
  }
 },
 "nbformat": 4,
 "nbformat_minor": 5
}
