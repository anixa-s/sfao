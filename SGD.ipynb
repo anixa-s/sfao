{
 "cells": [
  {
   "cell_type": "code",
   "execution_count": 1,
   "id": "d01a9139-46c5-4596-afa6-5d1aaa0f27e5",
   "metadata": {},
   "outputs": [
    {
     "name": "stdout",
     "output_type": "stream",
     "text": [
      "Collecting matplotlib\n",
      "  Downloading matplotlib-3.10.5-cp310-cp310-manylinux2014_x86_64.manylinux_2_17_x86_64.whl.metadata (11 kB)\n",
      "Requirement already satisfied: numpy in /usr/local/lib/python3.10/dist-packages (1.24.1)\n",
      "Requirement already satisfied: torchvision in /usr/local/lib/python3.10/dist-packages (0.16.0+cu118)\n",
      "Collecting tqdm\n",
      "  Downloading tqdm-4.67.1-py3-none-any.whl.metadata (57 kB)\n",
      "\u001b[2K     \u001b[90m━━━━━━━━━━━━━━━━━━━━━━━━━━━━━━━━━━━━━━━━\u001b[0m \u001b[32m57.7/57.7 kB\u001b[0m \u001b[31m2.2 MB/s\u001b[0m eta \u001b[36m0:00:00\u001b[0m\n",
      "\u001b[?25hCollecting contourpy>=1.0.1 (from matplotlib)\n",
      "  Downloading contourpy-1.3.2-cp310-cp310-manylinux_2_17_x86_64.manylinux2014_x86_64.whl.metadata (5.5 kB)\n",
      "Collecting cycler>=0.10 (from matplotlib)\n",
      "  Downloading cycler-0.12.1-py3-none-any.whl.metadata (3.8 kB)\n",
      "Collecting fonttools>=4.22.0 (from matplotlib)\n",
      "  Downloading fonttools-4.59.2-cp310-cp310-manylinux2014_x86_64.manylinux_2_17_x86_64.whl.metadata (109 kB)\n",
      "\u001b[2K     \u001b[90m━━━━━━━━━━━━━━━━━━━━━━━━━━━━━━━━━━━━━━\u001b[0m \u001b[32m109.7/109.7 kB\u001b[0m \u001b[31m16.8 MB/s\u001b[0m eta \u001b[36m0:00:00\u001b[0m\n",
      "\u001b[?25hCollecting kiwisolver>=1.3.1 (from matplotlib)\n",
      "  Downloading kiwisolver-1.4.9-cp310-cp310-manylinux_2_12_x86_64.manylinux2010_x86_64.whl.metadata (6.3 kB)\n",
      "Requirement already satisfied: packaging>=20.0 in /usr/local/lib/python3.10/dist-packages (from matplotlib) (23.2)\n",
      "Requirement already satisfied: pillow>=8 in /usr/local/lib/python3.10/dist-packages (from matplotlib) (9.3.0)\n",
      "Requirement already satisfied: pyparsing>=2.3.1 in /usr/lib/python3/dist-packages (from matplotlib) (2.4.7)\n",
      "Requirement already satisfied: python-dateutil>=2.7 in /usr/local/lib/python3.10/dist-packages (from matplotlib) (2.8.2)\n",
      "Requirement already satisfied: requests in /usr/local/lib/python3.10/dist-packages (from torchvision) (2.31.0)\n",
      "Requirement already satisfied: torch==2.1.0 in /usr/local/lib/python3.10/dist-packages (from torchvision) (2.1.0+cu118)\n",
      "Requirement already satisfied: filelock in /usr/local/lib/python3.10/dist-packages (from torch==2.1.0->torchvision) (3.9.0)\n",
      "Requirement already satisfied: typing-extensions in /usr/local/lib/python3.10/dist-packages (from torch==2.1.0->torchvision) (4.4.0)\n",
      "Requirement already satisfied: sympy in /usr/local/lib/python3.10/dist-packages (from torch==2.1.0->torchvision) (1.12)\n",
      "Requirement already satisfied: networkx in /usr/local/lib/python3.10/dist-packages (from torch==2.1.0->torchvision) (3.0)\n",
      "Requirement already satisfied: jinja2 in /usr/local/lib/python3.10/dist-packages (from torch==2.1.0->torchvision) (3.1.2)\n",
      "Requirement already satisfied: fsspec in /usr/local/lib/python3.10/dist-packages (from torch==2.1.0->torchvision) (2023.4.0)\n",
      "Requirement already satisfied: triton==2.1.0 in /usr/local/lib/python3.10/dist-packages (from torch==2.1.0->torchvision) (2.1.0)\n",
      "Requirement already satisfied: six>=1.5 in /usr/lib/python3/dist-packages (from python-dateutil>=2.7->matplotlib) (1.16.0)\n",
      "Requirement already satisfied: charset-normalizer<4,>=2 in /usr/local/lib/python3.10/dist-packages (from requests->torchvision) (2.1.1)\n",
      "Requirement already satisfied: idna<4,>=2.5 in /usr/local/lib/python3.10/dist-packages (from requests->torchvision) (3.4)\n",
      "Requirement already satisfied: urllib3<3,>=1.21.1 in /usr/local/lib/python3.10/dist-packages (from requests->torchvision) (1.26.13)\n",
      "Requirement already satisfied: certifi>=2017.4.17 in /usr/local/lib/python3.10/dist-packages (from requests->torchvision) (2022.12.7)\n",
      "Requirement already satisfied: MarkupSafe>=2.0 in /usr/local/lib/python3.10/dist-packages (from jinja2->torch==2.1.0->torchvision) (2.1.2)\n",
      "Requirement already satisfied: mpmath>=0.19 in /usr/local/lib/python3.10/dist-packages (from sympy->torch==2.1.0->torchvision) (1.3.0)\n",
      "Downloading matplotlib-3.10.5-cp310-cp310-manylinux2014_x86_64.manylinux_2_17_x86_64.whl (8.7 MB)\n",
      "\u001b[2K   \u001b[90m━━━━━━━━━━━━━━━━━━━━━━━━━━━━━━━━━━━━━━━━\u001b[0m \u001b[32m8.7/8.7 MB\u001b[0m \u001b[31m193.4 MB/s\u001b[0m eta \u001b[36m0:00:00\u001b[0ma \u001b[36m0:00:01\u001b[0m\n",
      "\u001b[?25hDownloading tqdm-4.67.1-py3-none-any.whl (78 kB)\n",
      "\u001b[2K   \u001b[90m━━━━━━━━━━━━━━━━━━━━━━━━━━━━━━━━━━━━━━━━\u001b[0m \u001b[32m78.5/78.5 kB\u001b[0m \u001b[31m36.7 MB/s\u001b[0m eta \u001b[36m0:00:00\u001b[0m\n",
      "\u001b[?25hDownloading contourpy-1.3.2-cp310-cp310-manylinux_2_17_x86_64.manylinux2014_x86_64.whl (325 kB)\n",
      "\u001b[2K   \u001b[90m━━━━━━━━━━━━━━━━━━━━━━━━━━━━━━━━━━━━━━━\u001b[0m \u001b[32m325.0/325.0 kB\u001b[0m \u001b[31m111.5 MB/s\u001b[0m eta \u001b[36m0:00:00\u001b[0m\n",
      "\u001b[?25hDownloading cycler-0.12.1-py3-none-any.whl (8.3 kB)\n",
      "Downloading fonttools-4.59.2-cp310-cp310-manylinux2014_x86_64.manylinux_2_17_x86_64.whl (4.8 MB)\n",
      "\u001b[2K   \u001b[90m━━━━━━━━━━━━━━━━━━━━━━━━━━━━━━━━━━━━━━━━\u001b[0m \u001b[32m4.8/4.8 MB\u001b[0m \u001b[31m238.2 MB/s\u001b[0m eta \u001b[36m0:00:00\u001b[0m\n",
      "\u001b[?25hDownloading kiwisolver-1.4.9-cp310-cp310-manylinux_2_12_x86_64.manylinux2010_x86_64.whl (1.6 MB)\n",
      "\u001b[2K   \u001b[90m━━━━━━━━━━━━━━━━━━━━━━━━━━━━━━━━━━━━━━━━\u001b[0m \u001b[32m1.6/1.6 MB\u001b[0m \u001b[31m229.4 MB/s\u001b[0m eta \u001b[36m0:00:00\u001b[0m\n",
      "\u001b[?25hInstalling collected packages: tqdm, kiwisolver, fonttools, cycler, contourpy, matplotlib\n",
      "Successfully installed contourpy-1.3.2 cycler-0.12.1 fonttools-4.59.2 kiwisolver-1.4.9 matplotlib-3.10.5 tqdm-4.67.1\n",
      "\u001b[33mWARNING: Running pip as the 'root' user can result in broken permissions and conflicting behaviour with the system package manager. It is recommended to use a virtual environment instead: https://pip.pypa.io/warnings/venv\u001b[0m\u001b[33m\n",
      "\u001b[0m\n",
      "\u001b[1m[\u001b[0m\u001b[34;49mnotice\u001b[0m\u001b[1;39;49m]\u001b[0m\u001b[39;49m A new release of pip is available: \u001b[0m\u001b[31;49m23.3.1\u001b[0m\u001b[39;49m -> \u001b[0m\u001b[32;49m25.2\u001b[0m\n",
      "\u001b[1m[\u001b[0m\u001b[34;49mnotice\u001b[0m\u001b[1;39;49m]\u001b[0m\u001b[39;49m To update, run: \u001b[0m\u001b[32;49mpython -m pip install --upgrade pip\u001b[0m\n"
     ]
    }
   ],
   "source": [
    "!pip install matplotlib numpy torchvision tqdm"
   ]
  },
  {
   "cell_type": "code",
   "execution_count": 12,
   "id": "fcaa0371-853a-4a90-8921-d5317042cc56",
   "metadata": {},
   "outputs": [
    {
     "name": "stdout",
     "output_type": "stream",
     "text": [
      "\n",
      "=== Training Task 1 ===\n"
     ]
    },
    {
     "name": "stderr",
     "output_type": "stream",
     "text": [
      "100%|██████████| 396/396 [00:00<00:00, 562.15it/s]\n"
     ]
    },
    {
     "name": "stdout",
     "output_type": "stream",
     "text": [
      "Epoch 1, Loss: 0.5126\n"
     ]
    },
    {
     "name": "stderr",
     "output_type": "stream",
     "text": [
      "100%|██████████| 396/396 [00:00<00:00, 473.09it/s]\n"
     ]
    },
    {
     "name": "stdout",
     "output_type": "stream",
     "text": [
      "Epoch 2, Loss: 0.2563\n",
      "Accuracy on Task 1: 0.999\n",
      "\n",
      "=== Training Task 2 ===\n"
     ]
    },
    {
     "name": "stderr",
     "output_type": "stream",
     "text": [
      "100%|██████████| 378/378 [00:00<00:00, 511.98it/s]\n"
     ]
    },
    {
     "name": "stdout",
     "output_type": "stream",
     "text": [
      "Epoch 1, Loss: 0.5874\n"
     ]
    },
    {
     "name": "stderr",
     "output_type": "stream",
     "text": [
      "100%|██████████| 378/378 [00:00<00:00, 436.53it/s]\n"
     ]
    },
    {
     "name": "stdout",
     "output_type": "stream",
     "text": [
      "Epoch 2, Loss: 0.3895\n",
      "Accuracy on Task 1: 0.987\n",
      "Accuracy on Task 2: 0.894\n",
      "\n",
      "=== Training Task 3 ===\n"
     ]
    },
    {
     "name": "stderr",
     "output_type": "stream",
     "text": [
      "100%|██████████| 352/352 [00:00<00:00, 505.26it/s]\n"
     ]
    },
    {
     "name": "stdout",
     "output_type": "stream",
     "text": [
      "Epoch 1, Loss: 0.4752\n"
     ]
    },
    {
     "name": "stderr",
     "output_type": "stream",
     "text": [
      "100%|██████████| 352/352 [00:00<00:00, 442.23it/s]\n"
     ]
    },
    {
     "name": "stdout",
     "output_type": "stream",
     "text": [
      "Epoch 2, Loss: 0.3444\n",
      "Accuracy on Task 1: 0.830\n",
      "Accuracy on Task 2: 0.836\n",
      "Accuracy on Task 3: 0.904\n",
      "\n",
      "=== Training Task 4 ===\n"
     ]
    },
    {
     "name": "stderr",
     "output_type": "stream",
     "text": [
      "100%|██████████| 381/381 [00:00<00:00, 479.28it/s]\n"
     ]
    },
    {
     "name": "stdout",
     "output_type": "stream",
     "text": [
      "Epoch 1, Loss: 0.3774\n"
     ]
    },
    {
     "name": "stderr",
     "output_type": "stream",
     "text": [
      "100%|██████████| 381/381 [00:00<00:00, 453.79it/s]\n"
     ]
    },
    {
     "name": "stdout",
     "output_type": "stream",
     "text": [
      "Epoch 2, Loss: 0.1757\n",
      "Accuracy on Task 1: 0.795\n",
      "Accuracy on Task 2: 0.861\n",
      "Accuracy on Task 3: 0.826\n",
      "Accuracy on Task 4: 0.974\n",
      "\n",
      "=== Training Task 5 ===\n"
     ]
    },
    {
     "name": "stderr",
     "output_type": "stream",
     "text": [
      "100%|██████████| 369/369 [00:00<00:00, 509.79it/s]\n"
     ]
    },
    {
     "name": "stdout",
     "output_type": "stream",
     "text": [
      "Epoch 1, Loss: 0.6420\n"
     ]
    },
    {
     "name": "stderr",
     "output_type": "stream",
     "text": [
      "100%|██████████| 369/369 [00:00<00:00, 442.16it/s]\n"
     ]
    },
    {
     "name": "stdout",
     "output_type": "stream",
     "text": [
      "Epoch 2, Loss: 0.3571\n",
      "Accuracy on Task 1: 0.674\n",
      "Accuracy on Task 2: 0.759\n",
      "Accuracy on Task 3: 0.474\n",
      "Accuracy on Task 4: 0.970\n",
      "Accuracy on Task 5: 0.910\n",
      "=== Continual Learning Metrics ===\n",
      "Average Accuracy (ACC):       0.7572\n",
      "Forgetting (F):              0.2235\n",
      "Backward Transfer (BWT):     -0.2235\n",
      "Forward Transfer (FWT):      0.0000\n",
      "Memory Usage:                0.00 MB\n",
      "Computation Cost:            0 projections/batch\n",
      "Plasticity-Stability Measure (PSM): 0.3882 (0-1 normalized)\n"
     ]
    },
    {
     "data": {
      "image/png": "[encoded data removed]",
      "text/plain": [
       "<Figure size 600x500 with 2 Axes>"
      ]
     },
     "metadata": {},
     "output_type": "display_data"
    }
   ],
   "source": [
    "# Naive SGD on Split MNIST\n",
    "import torch\n",
    "import torch.nn as nn\n",
    "import torch.optim as optim\n",
    "from torch.utils.data import DataLoader, TensorDataset\n",
    "import numpy as np\n",
    "from torchvision import datasets, transforms\n",
    "import matplotlib.pyplot as plt\n",
    "from tqdm import tqdm\n",
    "\n",
    "device = 'cuda' if torch.cuda.is_available() else 'cpu'\n",
    "\n",
    "# Simple MLP model\n",
    "class SimpleMLP(nn.Module):\n",
    "    def __init__(self, input_size=784, hidden_size=256, output_size=2):\n",
    "        super(SimpleMLP, self).__init__()\n",
    "        self.net = nn.Sequential(\n",
    "            nn.Linear(input_size, hidden_size),\n",
    "            nn.ReLU(),\n",
    "            nn.Linear(hidden_size, output_size)\n",
    "        )\n",
    "\n",
    "    def forward(self, x):\n",
    "        return self.net(x.view(x.size(0), -1))\n",
    "\n",
    "# Naive SGD implementation\n",
    "class NaiveSGD:\n",
    "    def __init__(self, model, lr=0.001, device='cuda'):\n",
    "        self.model = model.to(device)\n",
    "        self.optimizer = optim.SGD(self.model.parameters(), lr=lr)\n",
    "        self.device = device\n",
    "\n",
    "    def observe(self, x, y, criterion=nn.CrossEntropyLoss()):\n",
    "        self.model.train()\n",
    "        x, y = x.to(self.device), y.to(self.device)\n",
    "        self.optimizer.zero_grad()\n",
    "        loss = criterion(self.model(x), y)\n",
    "        loss.backward()\n",
    "        self.optimizer.step()\n",
    "        return loss.item()\n",
    "\n",
    "# Prepare Split MNIST (5 tasks, 2 classes each)\n",
    "transform = transforms.Compose([transforms.ToTensor()])\n",
    "mnist_train = datasets.MNIST(root='./data', train=True, download=True, transform=transform)\n",
    "mnist_test = datasets.MNIST(root='./data', train=False, download=True, transform=transform)\n",
    "\n",
    "def split_dataset(dataset, classes):\n",
    "    idx = np.isin(dataset.targets.numpy(), classes)\n",
    "    data = dataset.data[idx].float()/255.0\n",
    "    targets = dataset.targets[idx]\n",
    "    mapping = {cls:i for i,cls in enumerate(classes)}\n",
    "    targets = torch.tensor([mapping[t.item()] for t in targets])\n",
    "    return TensorDataset(data.view(-1, 28*28), targets)\n",
    "\n",
    "task_classes = [[0,1],[2,3],[4,5],[6,7],[8,9]]\n",
    "train_tasks = [split_dataset(mnist_train, c) for c in task_classes]\n",
    "test_tasks = [split_dataset(mnist_test, c) for c in task_classes]\n",
    "\n",
    "# Training with Metrics\n",
    "num_tasks = len(train_tasks)\n",
    "num_epochs = 2\n",
    "batch_size = 32\n",
    "\n",
    "model = SimpleMLP(input_size=784, hidden_size=256, output_size=2)\n",
    "sgd = NaiveSGD(model, lr=0.001, device=device)  \n",
    "\n",
    "accuracy_matrix = np.zeros((num_tasks, num_tasks))\n",
    "\n",
    "def evaluate_task(model, dataloader):\n",
    "    model.eval()\n",
    "    correct, total = 0, 0\n",
    "    with torch.no_grad():\n",
    "        for x, y in dataloader:\n",
    "            x, y = x.to(device), y.to(device)\n",
    "            out = model(x)\n",
    "            preds = out.argmax(dim=1)\n",
    "            correct += (preds == y).sum().item()\n",
    "            total += y.size(0)\n",
    "    return correct / total\n",
    "\n",
    "for task_id, train_dataset in enumerate(train_tasks):\n",
    "    print(f\"\\n=== Training Task {task_id+1} ===\")\n",
    "    train_loader = DataLoader(train_dataset, batch_size=batch_size, shuffle=True)\n",
    "\n",
    "    # Train\n",
    "    for epoch in range(num_epochs):\n",
    "        epoch_loss = 0.0\n",
    "        for x, y in tqdm(train_loader):\n",
    "            loss = sgd.observe(x, y)\n",
    "            epoch_loss += loss\n",
    "        print(f\"Epoch {epoch+1}, Loss: {epoch_loss/len(train_loader):.4f}\")\n",
    "\n",
    "    # Evaluate on all tasks seen so far\n",
    "    for eval_id in range(task_id+1):\n",
    "        test_loader = DataLoader(test_tasks[eval_id], batch_size=batch_size, shuffle=False)\n",
    "        acc = evaluate_task(sgd.model, test_loader)\n",
    "        accuracy_matrix[task_id, eval_id] = acc\n",
    "        print(f\"Accuracy on Task {eval_id+1}: {acc:.3f}\")\n",
    "\n",
    "# Compute Continual Learning Metrics\n",
    "ACC = accuracy_matrix[-1].mean()  # Average Accuracy\n",
    "F = np.mean([np.max(accuracy_matrix[:num_tasks-1, j]) - accuracy_matrix[-1, j] for j in range(num_tasks-1)])  # Forgetting\n",
    "BWT = np.mean([accuracy_matrix[-1, j] - accuracy_matrix[j, j] for j in range(num_tasks-1)])  # Backward Transfer\n",
    "FWT = np.mean([accuracy_matrix[i, i+1] for i in range(num_tasks-1)])  # Forward Transfer\n",
    "\n",
    "num_params = sum(p.numel() for p in sgd.model.parameters())\n",
    "mem_usage = 0  # No memory stored in naive SGD\n",
    "comp_cost = 0  # No projections\n",
    "\n",
    "alpha = 0.5\n",
    "PSM = alpha * (1 - F) + (1 - alpha) * max(FWT, 0)\n",
    "\n",
    "# Print Metrics\n",
    "print(\"=== Continual Learning Metrics ===\")\n",
    "print(f\"Average Accuracy (ACC):       {ACC:.4f}\")\n",
    "print(f\"Forgetting (F):              {F:.4f}\")\n",
    "print(f\"Backward Transfer (BWT):     {BWT:.4f}\")\n",
    "print(f\"Forward Transfer (FWT):      {FWT:.4f}\")\n",
    "print(f\"Memory Usage:                {mem_usage:.2f} MB\")\n",
    "print(f\"Computation Cost:            {comp_cost} projections/batch\")\n",
    "print(f\"Plasticity-Stability Measure (PSM): {PSM:.4f} (0-1 normalized)\")\n",
    "\n",
    "plt.figure(figsize=(6,5))\n",
    "plt.imshow(accuracy_matrix, cmap='viridis', interpolation='nearest')\n",
    "plt.colorbar(label='Accuracy')\n",
    "plt.xlabel('Evaluation Task')\n",
    "plt.ylabel('Training Task')\n",
    "plt.title('Naive SGD Accuracy Matrix (Split MNIST)')\n",
    "plt.show()"
   ]
  },
  {
   "cell_type": "code",
   "execution_count": 1,
   "id": "8992fedc-4852-4ac6-8386-db1db6a9637d",
   "metadata": {},
   "outputs": [
    {
     "name": "stdout",
     "output_type": "stream",
     "text": [
      "\n",
      "=== Training Task 1 ===\n"
     ]
    },
    {
     "name": "stderr",
     "output_type": "stream",
     "text": [
      "100%|██████████| 1875/1875 [00:03<00:00, 493.23it/s]\n"
     ]
    },
    {
     "name": "stdout",
     "output_type": "stream",
     "text": [
      "Epoch 1, Loss: 2.1055\n"
     ]
    },
    {
     "name": "stderr",
     "output_type": "stream",
     "text": [
      "100%|██████████| 1875/1875 [00:03<00:00, 484.26it/s]\n"
     ]
    },
    {
     "name": "stdout",
     "output_type": "stream",
     "text": [
      "Epoch 2, Loss: 1.5498\n",
      "Accuracy on Task 1: 0.777\n",
      "\n",
      "=== Training Task 2 ===\n"
     ]
    },
    {
     "name": "stderr",
     "output_type": "stream",
     "text": [
      "100%|██████████| 1875/1875 [00:03<00:00, 500.51it/s]\n"
     ]
    },
    {
     "name": "stdout",
     "output_type": "stream",
     "text": [
      "Epoch 1, Loss: 1.8135\n"
     ]
    },
    {
     "name": "stderr",
     "output_type": "stream",
     "text": [
      "100%|██████████| 1875/1875 [00:03<00:00, 477.49it/s]\n"
     ]
    },
    {
     "name": "stdout",
     "output_type": "stream",
     "text": [
      "Epoch 2, Loss: 1.1319\n",
      "Accuracy on Task 1: 0.781\n",
      "Accuracy on Task 2: 0.814\n",
      "\n",
      "=== Training Task 3 ===\n"
     ]
    },
    {
     "name": "stderr",
     "output_type": "stream",
     "text": [
      "100%|██████████| 1875/1875 [00:03<00:00, 533.48it/s]\n"
     ]
    },
    {
     "name": "stdout",
     "output_type": "stream",
     "text": [
      "Epoch 1, Loss: 1.5443\n"
     ]
    },
    {
     "name": "stderr",
     "output_type": "stream",
     "text": [
      "100%|██████████| 1875/1875 [00:03<00:00, 513.83it/s]\n"
     ]
    },
    {
     "name": "stdout",
     "output_type": "stream",
     "text": [
      "Epoch 2, Loss: 0.9232\n",
      "Accuracy on Task 1: 0.754\n",
      "Accuracy on Task 2: 0.813\n",
      "Accuracy on Task 3: 0.833\n",
      "\n",
      "=== Training Task 4 ===\n"
     ]
    },
    {
     "name": "stderr",
     "output_type": "stream",
     "text": [
      "100%|██████████| 1875/1875 [00:03<00:00, 517.93it/s]\n"
     ]
    },
    {
     "name": "stdout",
     "output_type": "stream",
     "text": [
      "Epoch 1, Loss: 1.4395\n"
     ]
    },
    {
     "name": "stderr",
     "output_type": "stream",
     "text": [
      "100%|██████████| 1875/1875 [00:03<00:00, 530.79it/s]\n"
     ]
    },
    {
     "name": "stdout",
     "output_type": "stream",
     "text": [
      "Epoch 2, Loss: 0.8313\n",
      "Accuracy on Task 1: 0.726\n",
      "Accuracy on Task 2: 0.778\n",
      "Accuracy on Task 3: 0.823\n",
      "Accuracy on Task 4: 0.843\n",
      "\n",
      "=== Training Task 5 ===\n"
     ]
    },
    {
     "name": "stderr",
     "output_type": "stream",
     "text": [
      "100%|██████████| 1875/1875 [00:03<00:00, 591.89it/s]\n"
     ]
    },
    {
     "name": "stdout",
     "output_type": "stream",
     "text": [
      "Epoch 1, Loss: 1.3079\n"
     ]
    },
    {
     "name": "stderr",
     "output_type": "stream",
     "text": [
      "100%|██████████| 1875/1875 [00:02<00:00, 635.47it/s]\n"
     ]
    },
    {
     "name": "stdout",
     "output_type": "stream",
     "text": [
      "Epoch 2, Loss: 0.7621\n",
      "Accuracy on Task 1: 0.709\n",
      "Accuracy on Task 2: 0.785\n",
      "Accuracy on Task 3: 0.806\n",
      "Accuracy on Task 4: 0.822\n",
      "Accuracy on Task 5: 0.845\n",
      "=== Continual Learning Metrics ===\n",
      "Average Accuracy (ACC):       0.7934\n",
      "Forgetting (F):              0.0372\n",
      "Backward Transfer (BWT):     -0.0362\n",
      "Forward Transfer (FWT):      0.0000\n",
      "Memory Usage:                0.00 MB\n",
      "Computation Cost:            0 projections/batch\n",
      "Plasticity-Stability Measure (PSM): 0.4814 (0-1 normalized)\n"
     ]
    },
    {
     "data": {
      "image/png": "[encoded data removed]",
      "text/plain": [
       "<Figure size 600x500 with 2 Axes>"
      ]
     },
     "metadata": {},
     "output_type": "display_data"
    }
   ],
   "source": [
    "# Naive SGD on Permuted MNIST\n",
    "import torch\n",
    "import torch.nn as nn\n",
    "import torch.optim as optim\n",
    "from torch.utils.data import DataLoader, TensorDataset\n",
    "import numpy as np\n",
    "from torchvision import datasets, transforms\n",
    "import matplotlib.pyplot as plt\n",
    "from tqdm import tqdm\n",
    "\n",
    "device = 'cuda' if torch.cuda.is_available() else 'cpu'\n",
    "\n",
    "# Simple MLP model\n",
    "class SimpleMLP(nn.Module):\n",
    "    def __init__(self, input_size=784, hidden_size=256, output_size=10):\n",
    "        super(SimpleMLP, self).__init__()\n",
    "        self.net = nn.Sequential(\n",
    "            nn.Linear(input_size, hidden_size),\n",
    "            nn.ReLU(),\n",
    "            nn.Linear(hidden_size, output_size)\n",
    "        )\n",
    "\n",
    "    def forward(self, x):\n",
    "        return self.net(x.view(x.size(0), -1))\n",
    "\n",
    "# Naive SGD implementation\n",
    "class NaiveSGD:\n",
    "    def __init__(self, model, lr=0.001, device='cuda'):\n",
    "        self.model = model.to(device)\n",
    "        self.optimizer = optim.SGD(self.model.parameters(), lr=lr)\n",
    "        self.device = device\n",
    "\n",
    "    def observe(self, x, y, criterion=nn.CrossEntropyLoss()):\n",
    "        self.model.train()\n",
    "        x, y = x.to(self.device), y.to(self.device)\n",
    "        self.optimizer.zero_grad()\n",
    "        loss = criterion(self.model(x), y)\n",
    "        loss.backward()\n",
    "        self.optimizer.step()\n",
    "        return loss.item()\n",
    "\n",
    "# Prepare Permuted MNIST\n",
    "transform = transforms.Compose([transforms.ToTensor()])\n",
    "mnist_train = datasets.MNIST(root='./data', train=True, download=True, transform=transform)\n",
    "mnist_test = datasets.MNIST(root='./data', train=False, download=True, transform=transform)\n",
    "\n",
    "def permute_dataset(dataset, permutation):\n",
    "    data = dataset.data.view(-1, 28*28).float() / 255.0\n",
    "    data = data[:, permutation]\n",
    "    targets = dataset.targets\n",
    "    return TensorDataset(data, targets)\n",
    "\n",
    "num_tasks = 5  # number of permuted tasks\n",
    "perm_list = [torch.randperm(28*28) for _ in range(num_tasks)]\n",
    "train_tasks = [permute_dataset(mnist_train, p) for p in perm_list]\n",
    "test_tasks = [permute_dataset(mnist_test, p) for p in perm_list]\n",
    "\n",
    "# Training with Metrics\n",
    "num_epochs = 2\n",
    "batch_size = 32\n",
    "\n",
    "model = SimpleMLP(input_size=784, hidden_size=256, output_size=10)\n",
    "sgd = NaiveSGD(model, lr=0.001, device=device)  \n",
    "\n",
    "accuracy_matrix = np.zeros((num_tasks, num_tasks))\n",
    "\n",
    "def evaluate_task(model, dataloader):\n",
    "    model.eval()\n",
    "    correct, total = 0, 0\n",
    "    with torch.no_grad():\n",
    "        for x, y in dataloader:\n",
    "            x, y = x.to(device), y.to(device)\n",
    "            out = model(x)\n",
    "            preds = out.argmax(dim=1)\n",
    "            correct += (preds == y).sum().item()\n",
    "            total += y.size(0)\n",
    "    return correct / total\n",
    "\n",
    "for task_id, train_dataset in enumerate(train_tasks):\n",
    "    print(f\"\\n=== Training Task {task_id+1} ===\")\n",
    "    train_loader = DataLoader(train_dataset, batch_size=batch_size, shuffle=True)\n",
    "\n",
    "    # Train\n",
    "    for epoch in range(num_epochs):\n",
    "        epoch_loss = 0.0\n",
    "        for x, y in tqdm(train_loader):\n",
    "            loss = sgd.observe(x, y)\n",
    "            epoch_loss += loss\n",
    "        print(f\"Epoch {epoch+1}, Loss: {epoch_loss/len(train_loader):.4f}\")\n",
    "\n",
    "    # Evaluate on all tasks seen so far\n",
    "    for eval_id in range(task_id+1):\n",
    "        test_loader = DataLoader(test_tasks[eval_id], batch_size=batch_size, shuffle=False)\n",
    "        acc = evaluate_task(sgd.model, test_loader)\n",
    "        accuracy_matrix[task_id, eval_id] = acc\n",
    "        print(f\"Accuracy on Task {eval_id+1}: {acc:.3f}\")\n",
    "\n",
    "# Compute Continual Learning Metrics\n",
    "ACC = accuracy_matrix[-1].mean()  # Average Accuracy\n",
    "F = np.mean([np.max(accuracy_matrix[:num_tasks-1, j]) - accuracy_matrix[-1, j] for j in range(num_tasks-1)])  # Forgetting\n",
    "BWT = np.mean([accuracy_matrix[-1, j] - accuracy_matrix[j, j] for j in range(num_tasks-1)])  # Backward Transfer\n",
    "FWT = np.mean([accuracy_matrix[i, i+1] for i in range(num_tasks-1)])  # Forward Transfer\n",
    "\n",
    "num_params = sum(p.numel() for p in sgd.model.parameters())\n",
    "mem_usage = 0  # No memory stored in naive SGD\n",
    "comp_cost = 0  # No projections\n",
    "\n",
    "alpha = 0.5\n",
    "PSM = alpha * (1 - F) + (1 - alpha) * max(FWT, 0)\n",
    "\n",
    "# Print Metrics\n",
    "print(\"=== Continual Learning Metrics ===\")\n",
    "print(f\"Average Accuracy (ACC):       {ACC:.4f}\")\n",
    "print(f\"Forgetting (F):              {F:.4f}\")\n",
    "print(f\"Backward Transfer (BWT):     {BWT:.4f}\")\n",
    "print(f\"Forward Transfer (FWT):      {FWT:.4f}\")\n",
    "print(f\"Memory Usage:                {mem_usage:.2f} MB\")\n",
    "print(f\"Computation Cost:            {comp_cost} projections/batch\")\n",
    "print(f\"Plasticity-Stability Measure (PSM): {PSM:.4f} (0-1 normalized)\")\n",
    "\n",
    "plt.figure(figsize=(6,5))\n",
    "plt.imshow(accuracy_matrix, cmap='viridis', interpolation='nearest')\n",
    "plt.colorbar(label='Accuracy')\n",
    "plt.xlabel('Evaluation Task')\n",
    "plt.ylabel('Training Task')\n",
    "plt.title('Naive SGD Accuracy Matrix (Permuted MNIST)')\n",
    "plt.show()"
   ]
  },
  {
   "cell_type": "code",
   "execution_count": 6,
   "id": "8aa2229f-1149-4c5f-8c71-6ccd7ad2db11",
   "metadata": {},
   "outputs": [
    {
     "name": "stdout",
     "output_type": "stream",
     "text": [
      "Using device: cuda\n",
      "Files already downloaded and verified\n",
      "Files already downloaded and verified\n",
      "Task 0: classes 0-9, train=5000, test=1000\n",
      "Task 1: classes 10-19, train=5000, test=1000\n",
      "Task 2: classes 20-29, train=5000, test=1000\n",
      "Task 3: classes 30-39, train=5000, test=1000\n",
      "Task 4: classes 40-49, train=5000, test=1000\n",
      "Task 5: classes 50-59, train=5000, test=1000\n",
      "Task 6: classes 60-69, train=5000, test=1000\n",
      "Task 7: classes 70-79, train=5000, test=1000\n",
      "Task 8: classes 80-89, train=5000, test=1000\n",
      "Task 9: classes 90-99, train=5000, test=1000\n",
      "\n",
      "=== Training Task 1 ===\n",
      "Task 0 label range: min=0, max=9 (should be 0-9)\n"
     ]
    },
    {
     "name": "stderr",
     "output_type": "stream",
     "text": [
      "100%|██████████| 156/156 [00:00<00:00, 224.71it/s]\n"
     ]
    },
    {
     "name": "stdout",
     "output_type": "stream",
     "text": [
      "Epoch 1, Loss=2.3026\n"
     ]
    },
    {
     "name": "stderr",
     "output_type": "stream",
     "text": [
      "100%|██████████| 156/156 [00:00<00:00, 184.36it/s]\n"
     ]
    },
    {
     "name": "stdout",
     "output_type": "stream",
     "text": [
      "Epoch 2, Loss=2.3009\n",
      "Accuracy on Task 1: 0.198\n",
      "\n",
      "=== Training Task 2 ===\n",
      "Task 1 label range: min=0, max=9 (should be 0-9)\n"
     ]
    },
    {
     "name": "stderr",
     "output_type": "stream",
     "text": [
      "100%|██████████| 156/156 [00:00<00:00, 200.39it/s]\n"
     ]
    },
    {
     "name": "stdout",
     "output_type": "stream",
     "text": [
      "Epoch 1, Loss=2.3014\n"
     ]
    },
    {
     "name": "stderr",
     "output_type": "stream",
     "text": [
      "100%|██████████| 156/156 [00:00<00:00, 184.88it/s]\n"
     ]
    },
    {
     "name": "stdout",
     "output_type": "stream",
     "text": [
      "Epoch 2, Loss=2.2981\n",
      "Accuracy on Task 1: 0.100\n",
      "Accuracy on Task 2: 0.100\n",
      "\n",
      "=== Training Task 3 ===\n",
      "Task 2 label range: min=0, max=9 (should be 0-9)\n"
     ]
    },
    {
     "name": "stderr",
     "output_type": "stream",
     "text": [
      "100%|██████████| 156/156 [00:00<00:00, 207.98it/s]\n"
     ]
    },
    {
     "name": "stdout",
     "output_type": "stream",
     "text": [
      "Epoch 1, Loss=2.3015\n"
     ]
    },
    {
     "name": "stderr",
     "output_type": "stream",
     "text": [
      "100%|██████████| 156/156 [00:00<00:00, 185.06it/s]\n"
     ]
    },
    {
     "name": "stdout",
     "output_type": "stream",
     "text": [
      "Epoch 2, Loss=2.2988\n",
      "Accuracy on Task 1: 0.143\n",
      "Accuracy on Task 2: 0.101\n",
      "Accuracy on Task 3: 0.161\n",
      "\n",
      "=== Training Task 4 ===\n",
      "Task 3 label range: min=0, max=9 (should be 0-9)\n"
     ]
    },
    {
     "name": "stderr",
     "output_type": "stream",
     "text": [
      "100%|██████████| 156/156 [00:00<00:00, 209.17it/s]\n"
     ]
    },
    {
     "name": "stdout",
     "output_type": "stream",
     "text": [
      "Epoch 1, Loss=2.3015\n"
     ]
    },
    {
     "name": "stderr",
     "output_type": "stream",
     "text": [
      "100%|██████████| 156/156 [00:00<00:00, 184.96it/s]\n"
     ]
    },
    {
     "name": "stdout",
     "output_type": "stream",
     "text": [
      "Epoch 2, Loss=2.2987\n",
      "Accuracy on Task 1: 0.098\n",
      "Accuracy on Task 2: 0.100\n",
      "Accuracy on Task 3: 0.092\n",
      "Accuracy on Task 4: 0.101\n",
      "\n",
      "=== Training Task 5 ===\n",
      "Task 4 label range: min=0, max=9 (should be 0-9)\n"
     ]
    },
    {
     "name": "stderr",
     "output_type": "stream",
     "text": [
      "100%|██████████| 156/156 [00:00<00:00, 213.13it/s]\n"
     ]
    },
    {
     "name": "stdout",
     "output_type": "stream",
     "text": [
      "Epoch 1, Loss=2.3014\n"
     ]
    },
    {
     "name": "stderr",
     "output_type": "stream",
     "text": [
      "100%|██████████| 156/156 [00:00<00:00, 184.04it/s]\n"
     ]
    },
    {
     "name": "stdout",
     "output_type": "stream",
     "text": [
      "Epoch 2, Loss=2.2969\n",
      "Accuracy on Task 1: 0.091\n",
      "Accuracy on Task 2: 0.101\n",
      "Accuracy on Task 3: 0.100\n",
      "Accuracy on Task 4: 0.105\n",
      "Accuracy on Task 5: 0.119\n",
      "\n",
      "=== Training Task 6 ===\n",
      "Task 5 label range: min=0, max=9 (should be 0-9)\n"
     ]
    },
    {
     "name": "stderr",
     "output_type": "stream",
     "text": [
      "100%|██████████| 156/156 [00:00<00:00, 213.94it/s]\n"
     ]
    },
    {
     "name": "stdout",
     "output_type": "stream",
     "text": [
      "Epoch 1, Loss=2.3017\n"
     ]
    },
    {
     "name": "stderr",
     "output_type": "stream",
     "text": [
      "100%|██████████| 156/156 [00:00<00:00, 184.01it/s]\n"
     ]
    },
    {
     "name": "stdout",
     "output_type": "stream",
     "text": [
      "Epoch 2, Loss=2.2984\n",
      "Accuracy on Task 1: 0.108\n",
      "Accuracy on Task 2: 0.128\n",
      "Accuracy on Task 3: 0.076\n",
      "Accuracy on Task 4: 0.120\n",
      "Accuracy on Task 5: 0.098\n",
      "Accuracy on Task 6: 0.166\n",
      "\n",
      "=== Training Task 7 ===\n",
      "Task 6 label range: min=0, max=9 (should be 0-9)\n"
     ]
    },
    {
     "name": "stderr",
     "output_type": "stream",
     "text": [
      "100%|██████████| 156/156 [00:00<00:00, 214.92it/s]\n"
     ]
    },
    {
     "name": "stdout",
     "output_type": "stream",
     "text": [
      "Epoch 1, Loss=2.3031\n"
     ]
    },
    {
     "name": "stderr",
     "output_type": "stream",
     "text": [
      "100%|██████████| 156/156 [00:00<00:00, 184.61it/s]\n"
     ]
    },
    {
     "name": "stdout",
     "output_type": "stream",
     "text": [
      "Epoch 2, Loss=2.2989\n",
      "Accuracy on Task 1: 0.104\n",
      "Accuracy on Task 2: 0.100\n",
      "Accuracy on Task 3: 0.069\n",
      "Accuracy on Task 4: 0.108\n",
      "Accuracy on Task 5: 0.131\n",
      "Accuracy on Task 6: 0.087\n",
      "Accuracy on Task 7: 0.135\n",
      "\n",
      "=== Training Task 8 ===\n",
      "Task 7 label range: min=0, max=9 (should be 0-9)\n"
     ]
    },
    {
     "name": "stderr",
     "output_type": "stream",
     "text": [
      "100%|██████████| 156/156 [00:00<00:00, 206.56it/s]\n"
     ]
    },
    {
     "name": "stdout",
     "output_type": "stream",
     "text": [
      "Epoch 1, Loss=2.3043\n"
     ]
    },
    {
     "name": "stderr",
     "output_type": "stream",
     "text": [
      "100%|██████████| 156/156 [00:00<00:00, 184.44it/s]\n"
     ]
    },
    {
     "name": "stdout",
     "output_type": "stream",
     "text": [
      "Epoch 2, Loss=2.3028\n",
      "Accuracy on Task 1: 0.110\n",
      "Accuracy on Task 2: 0.110\n",
      "Accuracy on Task 3: 0.124\n",
      "Accuracy on Task 4: 0.114\n",
      "Accuracy on Task 5: 0.093\n",
      "Accuracy on Task 6: 0.043\n",
      "Accuracy on Task 7: 0.104\n",
      "Accuracy on Task 8: 0.136\n",
      "\n",
      "=== Training Task 9 ===\n",
      "Task 8 label range: min=0, max=9 (should be 0-9)\n"
     ]
    },
    {
     "name": "stderr",
     "output_type": "stream",
     "text": [
      "100%|██████████| 156/156 [00:00<00:00, 210.22it/s]\n"
     ]
    },
    {
     "name": "stdout",
     "output_type": "stream",
     "text": [
      "Epoch 1, Loss=2.3025\n"
     ]
    },
    {
     "name": "stderr",
     "output_type": "stream",
     "text": [
      "100%|██████████| 156/156 [00:00<00:00, 182.79it/s]\n"
     ]
    },
    {
     "name": "stdout",
     "output_type": "stream",
     "text": [
      "Epoch 2, Loss=2.3010\n",
      "Accuracy on Task 1: 0.092\n",
      "Accuracy on Task 2: 0.121\n",
      "Accuracy on Task 3: 0.085\n",
      "Accuracy on Task 4: 0.097\n",
      "Accuracy on Task 5: 0.086\n",
      "Accuracy on Task 6: 0.094\n",
      "Accuracy on Task 7: 0.097\n",
      "Accuracy on Task 8: 0.114\n",
      "Accuracy on Task 9: 0.144\n",
      "\n",
      "=== Training Task 10 ===\n",
      "Task 9 label range: min=0, max=9 (should be 0-9)\n"
     ]
    },
    {
     "name": "stderr",
     "output_type": "stream",
     "text": [
      "100%|██████████| 156/156 [00:00<00:00, 205.34it/s]\n"
     ]
    },
    {
     "name": "stdout",
     "output_type": "stream",
     "text": [
      "Epoch 1, Loss=2.3015\n"
     ]
    },
    {
     "name": "stderr",
     "output_type": "stream",
     "text": [
      "100%|██████████| 156/156 [00:00<00:00, 184.49it/s]\n"
     ]
    },
    {
     "name": "stdout",
     "output_type": "stream",
     "text": [
      "Epoch 2, Loss=2.2991\n",
      "Accuracy on Task 1: 0.101\n",
      "Accuracy on Task 2: 0.101\n",
      "Accuracy on Task 3: 0.080\n",
      "Accuracy on Task 4: 0.096\n",
      "Accuracy on Task 5: 0.104\n",
      "Accuracy on Task 6: 0.101\n",
      "Accuracy on Task 7: 0.109\n",
      "Accuracy on Task 8: 0.090\n",
      "Accuracy on Task 9: 0.114\n",
      "Accuracy on Task 10: 0.123\n",
      "\n",
      "=== Final Evaluation Metrics ===\n",
      "ACC  : 0.1019\n",
      "F    : 0.0470\n",
      "BWT  : -0.0404\n",
      "FWT  : 0.0000\n",
      "PSM  : 0.4765\n"
     ]
    },
    {
     "data": {
      "image/png": "[encoded data removed]",
      "text/plain": [
       "<Figure size 600x500 with 2 Axes>"
      ]
     },
     "metadata": {},
     "output_type": "display_data"
    }
   ],
   "source": [
    "# Naive SGD on Split CIFAR-100\n",
    "import os\n",
    "os.environ['CUDA_LAUNCH_BLOCKING'] = \"1\"  # Better CUDA error tracebacks\n",
    "\n",
    "import torch\n",
    "import torch.nn as nn\n",
    "import torch.optim as optim\n",
    "from torch.utils.data import DataLoader, TensorDataset\n",
    "from torchvision import datasets, transforms\n",
    "import torch.nn.functional as F\n",
    "import numpy as np\n",
    "from tqdm import tqdm\n",
    "import matplotlib.pyplot as plt\n",
    "\n",
    "# ===== Device =====\n",
    "device = torch.device(\"cuda\" if torch.cuda.is_available() else \"cpu\")\n",
    "print(\"Using device:\", device)\n",
    "\n",
    "# ===== Hyperparameters =====\n",
    "root = './data'\n",
    "num_tasks = 10\n",
    "num_classes = 100\n",
    "classes_per_task = num_classes // num_tasks\n",
    "batch_size = 32\n",
    "num_epochs = 2\n",
    "learning_rate = 0.001\n",
    "\n",
    "# ===== Transforms =====\n",
    "train_transform = transforms.ToTensor()\n",
    "test_transform = transforms.ToTensor()\n",
    "\n",
    "# ===== Load CIFAR-100 =====\n",
    "train_ds = datasets.CIFAR100(root=root, train=True, download=True, transform=train_transform)\n",
    "test_ds = datasets.CIFAR100(root=root, train=False, download=True, transform=test_transform)\n",
    "\n",
    "# ===== Helper: extract subset =====\n",
    "def extract_subset_tensors(dataset, class_list):\n",
    "    targets = np.array(dataset.targets)\n",
    "    mask = np.isin(targets, class_list)\n",
    "    indices = np.nonzero(mask)[0].tolist()\n",
    "    imgs, labs = [], []\n",
    "    for i in indices:\n",
    "        img, lbl = dataset[i]\n",
    "        imgs.append(img)\n",
    "        labs.append(lbl)\n",
    "    return torch.stack(imgs), torch.tensor(labs, dtype=torch.long)\n",
    "\n",
    "# ===== Prepare tasks =====\n",
    "train_tasks, test_tasks = [], []\n",
    "for t in range(num_tasks):\n",
    "    cls_start = t * classes_per_task\n",
    "    cls_end = cls_start + classes_per_task\n",
    "    task_classes = list(range(cls_start, cls_end))\n",
    "\n",
    "    x_train, y_train = extract_subset_tensors(train_ds, task_classes)\n",
    "    x_test, y_test = extract_subset_tensors(test_ds, task_classes)\n",
    "\n",
    "    # Map labels to 0..classes_per_task-1\n",
    "    class_map = {orig: i for i, orig in enumerate(task_classes)}\n",
    "    y_train_mapped = torch.tensor([class_map[int(v)] for v in y_train], dtype=torch.long)\n",
    "    y_test_mapped = torch.tensor([class_map[int(v)] for v in y_test], dtype=torch.long)\n",
    "\n",
    "    train_tasks.append(TensorDataset(x_train, y_train_mapped))\n",
    "    test_tasks.append(TensorDataset(x_test, y_test_mapped))\n",
    "\n",
    "    print(f\"Task {t}: classes {task_classes[0]}-{task_classes[-1]}, train={len(x_train)}, test={len(x_test)}\")\n",
    "\n",
    "# ===== Simple CNN =====\n",
    "class SimpleCNN(nn.Module):\n",
    "    def __init__(self, num_classes=10):\n",
    "        super().__init__()\n",
    "        self.conv1 = nn.Conv2d(3, 32, kernel_size=3, padding=1)\n",
    "        self.conv2 = nn.Conv2d(32, 64, kernel_size=3, padding=1)\n",
    "        self.pool = nn.MaxPool2d(2,2)\n",
    "        self.fc1 = nn.Linear(64*8*8, 256)\n",
    "        self.fc2 = nn.Linear(256, num_classes)\n",
    "\n",
    "    def forward(self, x):\n",
    "        x = self.pool(F.relu(self.conv1(x)))\n",
    "        x = self.pool(F.relu(self.conv2(x)))\n",
    "        x = x.view(x.size(0), -1)\n",
    "        x = F.relu(self.fc1(x))\n",
    "        return self.fc2(x)\n",
    "\n",
    "# ===== Evaluation function =====\n",
    "def evaluate(model, dataloader):\n",
    "    model.eval()\n",
    "    correct, total = 0, 0\n",
    "    with torch.no_grad():\n",
    "        for x, y in dataloader:\n",
    "            x, y = x.to(device), y.to(device)\n",
    "            y = y.long()\n",
    "            output = model(x)\n",
    "            preds = output.argmax(dim=1)\n",
    "            correct += (preds == y).sum().item()\n",
    "            total += y.size(0)\n",
    "    return correct / total\n",
    "\n",
    "# ===== Training loop =====\n",
    "accuracy_matrix = np.zeros((num_tasks, num_tasks))\n",
    "\n",
    "for task_id, train_dataset in enumerate(train_tasks):\n",
    "    print(f\"\\n=== Training Task {task_id+1} ===\")\n",
    "\n",
    "    # Create a fresh model per task\n",
    "    model = SimpleCNN(num_classes=classes_per_task).to(device)\n",
    "    optimizer = optim.SGD(model.parameters(), lr=learning_rate)\n",
    "    criterion = nn.CrossEntropyLoss()\n",
    "\n",
    "    train_loader = DataLoader(\n",
    "        train_dataset, batch_size=batch_size, shuffle=True, drop_last=True, num_workers=0\n",
    "    )\n",
    "\n",
    "    # Check label ranges\n",
    "    y_all = torch.cat([y for _, y in train_loader])\n",
    "    print(f\"Task {task_id} label range: min={y_all.min().item()}, max={y_all.max().item()} (should be 0-{classes_per_task-1})\")\n",
    "\n",
    "    for epoch in range(num_epochs):\n",
    "        epoch_loss = 0.0\n",
    "        for x, y in tqdm(train_loader):\n",
    "            x, y = x.to(device), y.to(device)\n",
    "            y = y.long()\n",
    "            optimizer.zero_grad()\n",
    "            output = model(x)\n",
    "\n",
    "            # Safeguard: assert labels are within range\n",
    "            assert y.max().item() < output.size(1), f\"Label {y.max().item()} out of range for {output.size(1)} classes\"\n",
    "\n",
    "            loss = criterion(output, y)\n",
    "            loss.backward()\n",
    "            optimizer.step()\n",
    "            epoch_loss += loss.item()\n",
    "        print(f\"Epoch {epoch+1}, Loss={epoch_loss/len(train_loader):.4f}\")\n",
    "\n",
    "    # Evaluate on all seen tasks\n",
    "    for eval_id in range(task_id+1):\n",
    "        test_loader = DataLoader(\n",
    "            test_tasks[eval_id], batch_size=batch_size, shuffle=False, num_workers=0\n",
    "        )\n",
    "        acc = evaluate(model, test_loader)\n",
    "        accuracy_matrix[task_id, eval_id] = acc\n",
    "        print(f\"Accuracy on Task {eval_id+1}: {acc:.3f}\")\n",
    "\n",
    "# ===== Metrics =====\n",
    "num_seen_tasks = accuracy_matrix.shape[0]\n",
    "\n",
    "# ACC: average accuracy over all tasks after training last task\n",
    "ACC = accuracy_matrix[-1].mean()\n",
    "\n",
    "# Forgetting F: average of max previous accuracy - final accuracy for each task\n",
    "if num_seen_tasks > 1:\n",
    "    F = np.mean([np.max(accuracy_matrix[:num_seen_tasks-1, j]) - accuracy_matrix[-1, j] \n",
    "                 for j in range(num_seen_tasks-1)])\n",
    "    BWT = np.mean([accuracy_matrix[-1, j] - accuracy_matrix[j, j] for j in range(num_seen_tasks-1)])\n",
    "    FWT = np.mean([accuracy_matrix[i, i+1] for i in range(num_seen_tasks-1)])\n",
    "else:\n",
    "    F, BWT, FWT = 0.0, 0.0, 0.0\n",
    "\n",
    "# Performance Stability Metric (PSM)\n",
    "PSM = 0.5*(1-F) + 0.5*max(FWT,0)\n",
    "\n",
    "print(\"\\n=== Final Evaluation Metrics ===\")\n",
    "print(f\"ACC  : {ACC:.4f}\")\n",
    "print(f\"F    : {F:.4f}\")\n",
    "print(f\"BWT  : {BWT:.4f}\")\n",
    "print(f\"FWT  : {FWT:.4f}\")\n",
    "print(f\"PSM  : {PSM:.4f}\")\n",
    "\n",
    "# ===== Plot accuracy matrix =====\n",
    "plt.figure(figsize=(6,5))\n",
    "plt.imshow(accuracy_matrix, cmap='viridis', interpolation='nearest')\n",
    "plt.colorbar(label='Accuracy')\n",
    "plt.xlabel('Evaluation Task')\n",
    "plt.ylabel('Training Task')\n",
    "plt.title('Naive SGD Accuracy Matrix (Split CIFAR-100)')\n",
    "plt.show()"
   ]
  },
  {
   "cell_type": "code",
   "execution_count": 2,
   "id": "8aaf4484-d1c3-4323-a6e1-6a02db6af43a",
   "metadata": {},
   "outputs": [
    {
     "name": "stdout",
     "output_type": "stream",
     "text": [
      "Using device: cuda\n",
      "Files already downloaded and verified\n",
      "Files already downloaded and verified\n",
      "Task 0: classes 0-1, train=1000, test=200\n",
      "Task 1: classes 2-3, train=1000, test=200\n",
      "Task 2: classes 4-5, train=1000, test=200\n",
      "Task 3: classes 6-7, train=1000, test=200\n",
      "Task 4: classes 8-9, train=1000, test=200\n",
      "\n",
      "=== Training Task 1 ===\n",
      "Task 0 label range: min=0, max=1 (should be 0-1)\n"
     ]
    },
    {
     "name": "stderr",
     "output_type": "stream",
     "text": [
      "100%|██████████| 31/31 [00:00<00:00, 405.73it/s]\n"
     ]
    },
    {
     "name": "stdout",
     "output_type": "stream",
     "text": [
      "Epoch 1, Loss=0.6832\n"
     ]
    },
    {
     "name": "stderr",
     "output_type": "stream",
     "text": [
      "100%|██████████| 31/31 [00:00<00:00, 349.15it/s]"
     ]
    },
    {
     "name": "stdout",
     "output_type": "stream",
     "text": [
      "Epoch 2, Loss=0.6788\n"
     ]
    },
    {
     "name": "stderr",
     "output_type": "stream",
     "text": [
      "\n"
     ]
    },
    {
     "name": "stdout",
     "output_type": "stream",
     "text": [
      "Accuracy on Task 1: 0.525\n",
      "\n",
      "=== Training Task 2 ===\n",
      "Task 1 label range: min=0, max=1 (should be 0-1)\n"
     ]
    },
    {
     "name": "stderr",
     "output_type": "stream",
     "text": [
      "100%|██████████| 31/31 [00:00<00:00, 330.78it/s]\n"
     ]
    },
    {
     "name": "stdout",
     "output_type": "stream",
     "text": [
      "Epoch 1, Loss=0.6931\n"
     ]
    },
    {
     "name": "stderr",
     "output_type": "stream",
     "text": [
      "100%|██████████| 31/31 [00:00<00:00, 269.86it/s]\n"
     ]
    },
    {
     "name": "stdout",
     "output_type": "stream",
     "text": [
      "Epoch 2, Loss=0.6927\n",
      "Accuracy on Task 1: 0.565\n",
      "Accuracy on Task 2: 0.515\n",
      "\n",
      "=== Training Task 3 ===\n",
      "Task 2 label range: min=0, max=1 (should be 0-1)\n"
     ]
    },
    {
     "name": "stderr",
     "output_type": "stream",
     "text": [
      "100%|██████████| 31/31 [00:00<00:00, 282.44it/s]\n"
     ]
    },
    {
     "name": "stdout",
     "output_type": "stream",
     "text": [
      "Epoch 1, Loss=0.6955\n"
     ]
    },
    {
     "name": "stderr",
     "output_type": "stream",
     "text": [
      "100%|██████████| 31/31 [00:00<00:00, 247.21it/s]\n"
     ]
    },
    {
     "name": "stdout",
     "output_type": "stream",
     "text": [
      "Epoch 2, Loss=0.6927\n",
      "Accuracy on Task 1: 0.615\n",
      "Accuracy on Task 2: 0.485\n",
      "Accuracy on Task 3: 0.475\n",
      "\n",
      "=== Training Task 4 ===\n",
      "Task 3 label range: min=0, max=1 (should be 0-1)\n"
     ]
    },
    {
     "name": "stderr",
     "output_type": "stream",
     "text": [
      "100%|██████████| 31/31 [00:00<00:00, 278.19it/s]\n"
     ]
    },
    {
     "name": "stdout",
     "output_type": "stream",
     "text": [
      "Epoch 1, Loss=0.6927\n"
     ]
    },
    {
     "name": "stderr",
     "output_type": "stream",
     "text": [
      "100%|██████████| 31/31 [00:00<00:00, 239.38it/s]\n"
     ]
    },
    {
     "name": "stdout",
     "output_type": "stream",
     "text": [
      "Epoch 2, Loss=0.6921\n",
      "Accuracy on Task 1: 0.230\n",
      "Accuracy on Task 2: 0.505\n",
      "Accuracy on Task 3: 0.550\n",
      "Accuracy on Task 4: 0.605\n",
      "\n",
      "=== Training Task 5 ===\n",
      "Task 4 label range: min=0, max=1 (should be 0-1)\n"
     ]
    },
    {
     "name": "stderr",
     "output_type": "stream",
     "text": [
      "100%|██████████| 31/31 [00:00<00:00, 282.26it/s]\n"
     ]
    },
    {
     "name": "stdout",
     "output_type": "stream",
     "text": [
      "Epoch 1, Loss=0.6930\n"
     ]
    },
    {
     "name": "stderr",
     "output_type": "stream",
     "text": [
      "100%|██████████| 31/31 [00:00<00:00, 244.83it/s]\n"
     ]
    },
    {
     "name": "stdout",
     "output_type": "stream",
     "text": [
      "Epoch 2, Loss=0.6926\n",
      "Accuracy on Task 1: 0.495\n",
      "Accuracy on Task 2: 0.500\n",
      "Accuracy on Task 3: 0.500\n",
      "Accuracy on Task 4: 0.500\n",
      "Accuracy on Task 5: 0.500\n",
      "\n",
      "=== Final Evaluation Metrics ===\n",
      "ACC  : 0.4990\n",
      "F    : 0.0725\n",
      "BWT  : -0.0312\n",
      "FWT  : 0.0000\n",
      "PSM  : 0.4637\n"
     ]
    },
    {
     "data": {
      "image/png": "[encoded data removed]",
      "text/plain": [
       "<Figure size 600x500 with 2 Axes>"
      ]
     },
     "metadata": {},
     "output_type": "display_data"
    }
   ],
   "source": [
    "# Naive SGD on Split CIFAR-100\n",
    "import os\n",
    "os.environ['CUDA_LAUNCH_BLOCKING'] = \"1\"  # Better CUDA error tracebacks\n",
    "\n",
    "import torch\n",
    "import torch.nn as nn\n",
    "import torch.optim as optim\n",
    "from torch.utils.data import DataLoader, TensorDataset\n",
    "from torchvision import datasets, transforms\n",
    "import torch.nn.functional as F\n",
    "import numpy as np\n",
    "from tqdm import tqdm\n",
    "import matplotlib.pyplot as plt\n",
    "\n",
    "# ===== Device =====\n",
    "device = torch.device(\"cuda\" if torch.cuda.is_available() else \"cpu\")\n",
    "print(\"Using device:\", device)\n",
    "\n",
    "# ===== Hyperparameters =====\n",
    "root = './data'\n",
    "num_tasks = 5\n",
    "num_classes = 10\n",
    "classes_per_task = num_classes // num_tasks\n",
    "batch_size = 32\n",
    "num_epochs = 2\n",
    "learning_rate = 0.001\n",
    "\n",
    "# ===== Transforms =====\n",
    "train_transform = transforms.ToTensor()\n",
    "test_transform = transforms.ToTensor()\n",
    "\n",
    "# ===== Load CIFAR-100 =====\n",
    "train_ds = datasets.CIFAR100(root=root, train=True, download=True, transform=train_transform)\n",
    "test_ds = datasets.CIFAR100(root=root, train=False, download=True, transform=test_transform)\n",
    "\n",
    "# ===== Helper: extract subset =====\n",
    "def extract_subset_tensors(dataset, class_list):\n",
    "    targets = np.array(dataset.targets)\n",
    "    mask = np.isin(targets, class_list)\n",
    "    indices = np.nonzero(mask)[0].tolist()\n",
    "    imgs, labs = [], []\n",
    "    for i in indices:\n",
    "        img, lbl = dataset[i]\n",
    "        imgs.append(img)\n",
    "        labs.append(lbl)\n",
    "    return torch.stack(imgs), torch.tensor(labs, dtype=torch.long)\n",
    "\n",
    "# ===== Prepare tasks =====\n",
    "train_tasks, test_tasks = [], []\n",
    "for t in range(num_tasks):\n",
    "    cls_start = t * classes_per_task\n",
    "    cls_end = cls_start + classes_per_task\n",
    "    task_classes = list(range(cls_start, cls_end))\n",
    "\n",
    "    x_train, y_train = extract_subset_tensors(train_ds, task_classes)\n",
    "    x_test, y_test = extract_subset_tensors(test_ds, task_classes)\n",
    "\n",
    "    # Map labels to 0..classes_per_task-1\n",
    "    class_map = {orig: i for i, orig in enumerate(task_classes)}\n",
    "    y_train_mapped = torch.tensor([class_map[int(v)] for v in y_train], dtype=torch.long)\n",
    "    y_test_mapped = torch.tensor([class_map[int(v)] for v in y_test], dtype=torch.long)\n",
    "\n",
    "    train_tasks.append(TensorDataset(x_train, y_train_mapped))\n",
    "    test_tasks.append(TensorDataset(x_test, y_test_mapped))\n",
    "\n",
    "    print(f\"Task {t}: classes {task_classes[0]}-{task_classes[-1]}, train={len(x_train)}, test={len(x_test)}\")\n",
    "\n",
    "# ===== Simple CNN =====\n",
    "class SimpleCNN(nn.Module):\n",
    "    def __init__(self, num_classes=10):\n",
    "        super().__init__()\n",
    "        self.conv1 = nn.Conv2d(3, 32, kernel_size=3, padding=1)\n",
    "        self.conv2 = nn.Conv2d(32, 64, kernel_size=3, padding=1)\n",
    "        self.pool = nn.MaxPool2d(2,2)\n",
    "        self.fc1 = nn.Linear(64*8*8, 256)\n",
    "        self.fc2 = nn.Linear(256, num_classes)\n",
    "\n",
    "    def forward(self, x):\n",
    "        x = self.pool(F.relu(self.conv1(x)))\n",
    "        x = self.pool(F.relu(self.conv2(x)))\n",
    "        x = x.view(x.size(0), -1)\n",
    "        x = F.relu(self.fc1(x))\n",
    "        return self.fc2(x)\n",
    "\n",
    "# ===== Evaluation function =====\n",
    "def evaluate(model, dataloader):\n",
    "    model.eval()\n",
    "    correct, total = 0, 0\n",
    "    with torch.no_grad():\n",
    "        for x, y in dataloader:\n",
    "            x, y = x.to(device), y.to(device)\n",
    "            y = y.long()\n",
    "            output = model(x)\n",
    "            preds = output.argmax(dim=1)\n",
    "            correct += (preds == y).sum().item()\n",
    "            total += y.size(0)\n",
    "    return correct / total\n",
    "\n",
    "# ===== Training loop =====\n",
    "accuracy_matrix = np.zeros((num_tasks, num_tasks))\n",
    "\n",
    "for task_id, train_dataset in enumerate(train_tasks):\n",
    "    print(f\"\\n=== Training Task {task_id+1} ===\")\n",
    "\n",
    "    # Create a fresh model per task\n",
    "    model = SimpleCNN(num_classes=classes_per_task).to(device)\n",
    "    optimizer = optim.SGD(model.parameters(), lr=learning_rate)\n",
    "    criterion = nn.CrossEntropyLoss()\n",
    "\n",
    "    train_loader = DataLoader(\n",
    "        train_dataset, batch_size=batch_size, shuffle=True, drop_last=True, num_workers=0\n",
    "    )\n",
    "\n",
    "    # Check label ranges\n",
    "    y_all = torch.cat([y for _, y in train_loader])\n",
    "    print(f\"Task {task_id} label range: min={y_all.min().item()}, max={y_all.max().item()} (should be 0-{classes_per_task-1})\")\n",
    "\n",
    "    for epoch in range(num_epochs):\n",
    "        epoch_loss = 0.0\n",
    "        for x, y in tqdm(train_loader):\n",
    "            x, y = x.to(device), y.to(device)\n",
    "            y = y.long()\n",
    "            optimizer.zero_grad()\n",
    "            output = model(x)\n",
    "\n",
    "            # Safeguard: assert labels are within range\n",
    "            assert y.max().item() < output.size(1), f\"Label {y.max().item()} out of range for {output.size(1)} classes\"\n",
    "\n",
    "            loss = criterion(output, y)\n",
    "            loss.backward()\n",
    "            optimizer.step()\n",
    "            epoch_loss += loss.item()\n",
    "        print(f\"Epoch {epoch+1}, Loss={epoch_loss/len(train_loader):.4f}\")\n",
    "\n",
    "    # Evaluate on all seen tasks\n",
    "    for eval_id in range(task_id+1):\n",
    "        test_loader = DataLoader(\n",
    "            test_tasks[eval_id], batch_size=batch_size, shuffle=False, num_workers=0\n",
    "        )\n",
    "        acc = evaluate(model, test_loader)\n",
    "        accuracy_matrix[task_id, eval_id] = acc\n",
    "        print(f\"Accuracy on Task {eval_id+1}: {acc:.3f}\")\n",
    "\n",
    "# ===== Metrics =====\n",
    "num_seen_tasks = accuracy_matrix.shape[0]\n",
    "\n",
    "# ACC: average accuracy over all tasks after training last task\n",
    "ACC = accuracy_matrix[-1].mean()\n",
    "\n",
    "# Forgetting F: average of max previous accuracy - final accuracy for each task\n",
    "if num_seen_tasks > 1:\n",
    "    F = np.mean([np.max(accuracy_matrix[:num_seen_tasks-1, j]) - accuracy_matrix[-1, j] \n",
    "                 for j in range(num_seen_tasks-1)])\n",
    "    BWT = np.mean([accuracy_matrix[-1, j] - accuracy_matrix[j, j] for j in range(num_seen_tasks-1)])\n",
    "    FWT = np.mean([accuracy_matrix[i, i+1] for i in range(num_seen_tasks-1)])\n",
    "else:\n",
    "    F, BWT, FWT = 0.0, 0.0, 0.0\n",
    "\n",
    "# Performance Stability Metric (PSM)\n",
    "PSM = 0.5*(1-F) + 0.5*max(FWT,0)\n",
    "\n",
    "print(\"\\n=== Final Evaluation Metrics ===\")\n",
    "print(f\"ACC  : {ACC:.4f}\")\n",
    "print(f\"F    : {F:.4f}\")\n",
    "print(f\"BWT  : {BWT:.4f}\")\n",
    "print(f\"FWT  : {FWT:.4f}\")\n",
    "print(f\"PSM  : {PSM:.4f}\")\n",
    "\n",
    "# ===== Plot accuracy matrix =====\n",
    "plt.figure(figsize=(6,5))\n",
    "plt.imshow(accuracy_matrix, cmap='viridis', interpolation='nearest')\n",
    "plt.colorbar(label='Accuracy')\n",
    "plt.xlabel('Evaluation Task')\n",
    "plt.ylabel('Training Task')\n",
    "plt.title('Naive SGD Accuracy Matrix (Split CIFAR-10)')\n",
    "plt.show()"
   ]
  },
  {
   "cell_type": "code",
   "execution_count": null,
   "id": "9115e98a-aed0-4a6d-8219-49c466f7904f",
   "metadata": {},
   "outputs": [],
   "source": []
  }
 ],
 "metadata": {
  "kernelspec": {
   "display_name": "Python 3 (ipykernel)",
   "language": "python",
   "name": "python3"
  },
  "language_info": {
   "codemirror_mode": {
    "name": "ipython",
    "version": 3
   },
   "file_extension": ".py",
   "mimetype": "text/x-python",
   "name": "python",
   "nbconvert_exporter": "python",
   "pygments_lexer": "ipython3",
   "version": "3.10.12"
  }
 },
 "nbformat": 4,
 "nbformat_minor": 5
}
